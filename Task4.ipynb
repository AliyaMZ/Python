{
  "nbformat": 4,
  "nbformat_minor": 0,
  "metadata": {
    "colab": {
      "provenance": [],
      "authorship_tag": "ABX9TyP9nd+efxe3nKR2ZhV7j7js",
      "include_colab_link": true
    },
    "kernelspec": {
      "name": "python3",
      "display_name": "Python 3"
    },
    "language_info": {
      "name": "python"
    }
  },
  "cells": [
    {
      "cell_type": "markdown",
      "metadata": {
        "id": "view-in-github",
        "colab_type": "text"
      },
      "source": [
        "<a href=\"https://colab.research.google.com/github/AliyaMZ/Python/blob/main/Task4.ipynb\" target=\"_parent\"><img src=\"https://colab.research.google.com/assets/colab-badge.svg\" alt=\"Open In Colab\"/></a>"
      ]
    },
    {
      "cell_type": "markdown",
      "source": [
        "Вариант 8\n",
        "\n",
        "Гиззатуллина Алия"
      ],
      "metadata": {
        "id": "LV0LB9ZuqQNI"
      }
    },
    {
      "cell_type": "markdown",
      "source": [
        "1.\tВ заданной строке удвоить каждое вхождение буквы Ch."
      ],
      "metadata": {
        "id": "pSi6UPANoXy6"
      }
    },
    {
      "cell_type": "code",
      "source": [
        "stroka=input(\"введите строку  \")\n",
        "Ch=input(\"введите букву  \")\n",
        "stroka=stroka.lower()\n",
        "edited_stroka=stroka.replace(Ch,Ch*2)\n",
        "print(f\"новая строка: {edited_stroka}\")"
      ],
      "metadata": {
        "colab": {
          "base_uri": "https://localhost:8080/"
        },
        "id": "HiDAWsz3oZQh",
        "outputId": "6393dd85-c26e-4848-bec5-19c6aae1238d"
      },
      "execution_count": 5,
      "outputs": [
        {
          "output_type": "stream",
          "name": "stdout",
          "text": [
            "введите строку  Hello Lilly\n",
            "введите букву  l\n",
            "новая строка hellllo llilllly\n"
          ]
        }
      ]
    },
    {
      "cell_type": "markdown",
      "source": [
        "2.\tДана символьная строка. Преобразовать ее, удалив каждый символ * и повторив каждый символ, отличный от *."
      ],
      "metadata": {
        "id": "TcvrOnJ1qylK"
      }
    },
    {
      "cell_type": "code",
      "source": [
        "def transform_stroka(stroka):\n",
        "  new = \"\"\n",
        "  for char in stroka:\n",
        "    if char != '*':\n",
        "      new += char * 2\n",
        "  return new\n",
        "\n",
        "stroka=\"*hello**apple**wow\"\n",
        "new_str = transform_stroka(stroka)\n",
        "print(f\"новая строка: {new_str}\")"
      ],
      "metadata": {
        "colab": {
          "base_uri": "https://localhost:8080/"
        },
        "id": "LloDoBYurpz9",
        "outputId": "8593935c-77a0-4291-82de-99d12017c87a"
      },
      "execution_count": 10,
      "outputs": [
        {
          "output_type": "stream",
          "name": "stdout",
          "text": [
            "новая строка: hheellllooaapppplleewwooww\n"
          ]
        }
      ]
    },
    {
      "cell_type": "markdown",
      "source": [
        "3.\tСимвольная строка содержит произвольный русский текст. Проверить, каких букв в нем больше: гласных или согласных."
      ],
      "metadata": {
        "id": "ZK3zK73Ys7Zu"
      }
    },
    {
      "cell_type": "code",
      "source": [
        "def count(stroka):\n",
        "  glasnie=\"аеёиоуыэюя\"\n",
        "  kolvo_glas=0\n",
        "  kolvo_soglas=0\n",
        "  for ch in stroka:\n",
        "    if ch in glasnie:\n",
        "      kolvo_glas+=1\n",
        "    else:\n",
        "      kolvo_soglas+=1\n",
        "  return kolvo_glas,kolvo_soglas\n",
        "\n",
        "stroka=\"АААааабпппВВИи\"\n",
        "stroka=stroka.lower()\n",
        "glas,soglas=count(stroka)\n",
        "if glas > soglas:\n",
        "  print(\"гласных больше.\")\n",
        "elif soglas > glas:\n",
        "  print(\"согласных больше.\")\n",
        "else:\n",
        "  print(\"Гласных и согласных поровну.\")"
      ],
      "metadata": {
        "colab": {
          "base_uri": "https://localhost:8080/"
        },
        "id": "P20cFzZotA3N",
        "outputId": "9527180b-a8c7-498b-cc71-61e3fd4abe4a"
      },
      "execution_count": 16,
      "outputs": [
        {
          "output_type": "stream",
          "name": "stdout",
          "text": [
            "гласных больше.\n"
          ]
        }
      ]
    },
    {
      "cell_type": "markdown",
      "source": [
        "1.\tЗаписать в файл последовательного доступа N натуральных чисел: a1, a2, …, an (числа, получить с помощью датчика случайных чисел). Сформировать новый файл последовательного доступа, элементами которого являются числа: a1, a1×a2, a1×a2×a3, …, a1×a2×a3×…×an."
      ],
      "metadata": {
        "id": "GdAtvsiKvF30"
      }
    },
    {
      "cell_type": "code",
      "source": [
        "import random\n",
        "\n",
        "def generate_random_numbers(n, filename):\n",
        "  numbers = [random.randint(1, 100) for _ in range(n)]\n",
        "  with open(filename, 'w') as file:\n",
        "    for number in numbers:\n",
        "      file.write(f\"{number}\\n\")\n",
        "  return numbers\n",
        "\n",
        "def create_file(input_file, output_file):\n",
        "  products = []\n",
        "  current_product = 1\n",
        "  with open(input_file, 'r') as file:\n",
        "    for line in file:\n",
        "      number = int(line.strip())\n",
        "      current_product *= number\n",
        "      products.append(current_product)\n",
        "  with open(output_file, 'w') as file:\n",
        "    for product in products:\n",
        "        file.write(f\"{product}\\n\")\n",
        "\n",
        "N = 10\n",
        "input_file = 'random_numbers.txt'\n",
        "output_file = 'products.txt'\n",
        "\n",
        "numbers = generate_random_numbers(N, input_file)\n",
        "print(f\"Сгенерированные числа: {numbers}\")\n",
        "\n",
        "create_file(input_file, output_file)\n",
        "with open(\"products.txt\", \"r\") as file:\n",
        "  content = file.read()\n",
        "  print(content)"
      ],
      "metadata": {
        "colab": {
          "base_uri": "https://localhost:8080/"
        },
        "id": "Wj2RdkJtvWBV",
        "outputId": "0a0a5437-b461-4736-ca5a-b7f94bccaffb"
      },
      "execution_count": 24,
      "outputs": [
        {
          "output_type": "stream",
          "name": "stdout",
          "text": [
            "Сгенерированные числа: [35, 79, 21, 65, 23, 77, 95, 40, 36, 35]\n",
            "35\n",
            "2765\n",
            "58065\n",
            "3774225\n",
            "86807175\n",
            "6684152475\n",
            "634994485125\n",
            "25399779405000\n",
            "914392058580000\n",
            "32003722050300000\n",
            "\n"
          ]
        }
      ]
    },
    {
      "cell_type": "markdown",
      "source": [
        "2.\tДан файл, содержащий различные даты. Каждая дата — это число месяц и год. Найти все весенние даты."
      ],
      "metadata": {
        "id": "7JBmtzHYya9h"
      }
    },
    {
      "cell_type": "code",
      "source": [
        "import random\n",
        "from datetime import datetime, timedelta\n",
        "\n",
        "def generate_random_dates(num_dates, start_date, end_date):\n",
        "  random_dates = []\n",
        "  for _ in range(num_dates):\n",
        "      random_days = random.randint(0, (end_date - start_date).days)\n",
        "      random_date = start_date + timedelta(days=random_days)\n",
        "      random_dates.append(random_date.strftime('%d.%m.%Y'))\n",
        "  return random_dates\n",
        "\n",
        "def create_dates_file(filename, dates):\n",
        "  with open(filename, 'w') as file:\n",
        "      for date in dates:\n",
        "          file.write(date + '\\n')\n",
        "\n",
        "def is_spring(date):\n",
        "  return (date.month >= 3 and date.month <= 5)\n",
        "\n",
        "def find_spring_dates(input_filename):\n",
        "    spring_dates = []\n",
        "    try:\n",
        "      with open(input_filename, 'r') as file:\n",
        "          for line in file:\n",
        "              try:\n",
        "                  date = datetime.strptime(line.strip(), '%d.%m.%Y')\n",
        "                  if is_spring(date):\n",
        "                      spring_dates.append(date.strftime('%d.%m.%Y'))\n",
        "              except ValueError:\n",
        "                  print(f\"Некорректная дата: {line.strip()}\")\n",
        "\n",
        "    except FileNotFoundError:\n",
        "      print(f\"Ошибка: файл {input_filename} не найден.\")\n",
        "      return []\n",
        "\n",
        "    return spring_dates\n",
        "\n",
        "\n",
        "num_dates = 100\n",
        "start_date = datetime(2000, 1, 1)\n",
        "end_date = datetime(2023, 12, 31)\n",
        "\n",
        "random_dates = generate_random_dates(num_dates, start_date, end_date)\n",
        "dates_file = 'random_dates.txt'\n",
        "create_dates_file(dates_file, random_dates)\n",
        "\n",
        "spring_dates = find_spring_dates(dates_file)\n",
        "\n",
        "# Вывод весенних дат\n",
        "if spring_dates:\n",
        "    print(\"Весенние даты:\")\n",
        "    for date in spring_dates:\n",
        "        print(date)\n",
        "else:\n",
        "    print(\"Весенние даты не найдены.\")\n"
      ],
      "metadata": {
        "colab": {
          "base_uri": "https://localhost:8080/"
        },
        "id": "eyWwQCnpyn9A",
        "outputId": "e55418d7-7404-4267-a66f-2e76242f7771"
      },
      "execution_count": 22,
      "outputs": [
        {
          "output_type": "stream",
          "name": "stdout",
          "text": [
            "Весенние даты:\n",
            "19.03.2002\n",
            "15.05.2002\n",
            "02.03.2018\n",
            "01.04.2015\n",
            "30.05.2008\n",
            "29.05.2017\n",
            "09.05.2003\n",
            "03.05.2002\n",
            "15.04.2009\n",
            "02.04.2016\n",
            "27.03.2003\n",
            "04.03.2004\n",
            "08.05.2002\n",
            "11.04.2021\n",
            "15.04.2021\n",
            "20.03.2006\n",
            "05.05.2019\n",
            "27.03.2016\n",
            "30.04.2012\n",
            "26.04.2018\n",
            "27.05.2019\n",
            "19.04.2011\n",
            "12.03.2019\n",
            "10.04.2017\n",
            "29.03.2019\n",
            "09.03.2015\n",
            "04.04.2015\n",
            "01.04.2022\n",
            "12.05.2010\n",
            "15.03.2004\n"
          ]
        }
      ]
    },
    {
      "cell_type": "markdown",
      "source": [
        "3.\tДан файл, содержащий текст на русском языке. Составить в алфавитном порядке список всех слов, встречающихся в этом тексте."
      ],
      "metadata": {
        "id": "tmKhQ5gDzzIr"
      }
    },
    {
      "cell_type": "code",
      "source": [
        "import random\n",
        "import re\n",
        "\n",
        "words = [\n",
        "    \"кот\", \"собака\", \"дерево\", \"машина\", \"дом\", \"река\", \"гора\",\n",
        "    \"цветок\", \"птица\", \"солнце\", \"луна\", \"звезда\", \"небо\", \"земля\",\n",
        "    \"любовь\", \"дружба\", \"счастье\", \"печаль\", \"музыка\", \"искусство\"\n",
        "]\n",
        "\n",
        "def generate_random_text(num_sentences):\n",
        "    text = []\n",
        "    for _ in range(num_sentences):\n",
        "        sentence_length = random.randint(5, 15)\n",
        "        sentence = ' '.join(random.choices(words, k=sentence_length))\n",
        "        text.append(sentence.capitalize() + '.')\n",
        "    return ' '.join(text)\n",
        "\n",
        "filename = 'random_russian_text.txt'\n",
        "with open(filename, 'w', encoding='utf-8') as file:\n",
        "    random_text = generate_random_text(10)\n",
        "    file.write(random_text)\n",
        "\n",
        "def extract_unique_words(filename):\n",
        "    with open(filename, 'r', encoding='utf-8') as file:\n",
        "        text = file.read()\n",
        "    unique_words = sorted(set(words))\n",
        "    return unique_words\n",
        "\n",
        "unique_words = extract_unique_words(filename)\n",
        "\n",
        "print(\"Уникальные слова в алфавитном порядке:\")\n",
        "print(unique_words)\n"
      ],
      "metadata": {
        "colab": {
          "base_uri": "https://localhost:8080/"
        },
        "id": "0eRSjrbxz4Wn",
        "outputId": "d135466e-0866-45c7-910d-301e3bb23861"
      },
      "execution_count": 33,
      "outputs": [
        {
          "output_type": "stream",
          "name": "stdout",
          "text": [
            "Уникальные слова в алфавитном порядке:\n",
            "['гора', 'дерево', 'дом', 'дружба', 'звезда', 'земля', 'искусство', 'кот', 'луна', 'любовь', 'машина', 'музыка', 'небо', 'печаль', 'птица', 'река', 'собака', 'солнце', 'счастье', 'цветок']\n"
          ]
        }
      ]
    }
  ]
}