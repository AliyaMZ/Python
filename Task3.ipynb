{
  "nbformat": 4,
  "nbformat_minor": 0,
  "metadata": {
    "colab": {
      "provenance": [],
      "authorship_tag": "ABX9TyMelTiBjDaOds9zqcxlwAJk",
      "include_colab_link": true
    },
    "kernelspec": {
      "name": "python3",
      "display_name": "Python 3"
    },
    "language_info": {
      "name": "python"
    }
  },
  "cells": [
    {
      "cell_type": "markdown",
      "metadata": {
        "id": "view-in-github",
        "colab_type": "text"
      },
      "source": [
        "<a href=\"https://colab.research.google.com/github/AliyaMZ/Python/blob/main/Task3.ipynb\" target=\"_parent\"><img src=\"https://colab.research.google.com/assets/colab-badge.svg\" alt=\"Open In Colab\"/></a>"
      ]
    },
    {
      "cell_type": "markdown",
      "source": [
        "Вариант 8\n",
        "\n",
        "Гиззатуллина Алия\n",
        "\n",
        "1.\tНайти количество и произведение отрицательных элементов."
      ],
      "metadata": {
        "id": "6FDT6LVjzLiB"
      }
    },
    {
      "cell_type": "code",
      "source": [
        "mas=[-1,2,-3,4,-5,6,7,8,9,-10]\n",
        "proiz=1\n",
        "kolvo=0\n",
        "for i in mas:\n",
        "  if i<0:\n",
        "    proiz=proiz*i\n",
        "    kolvo+=1\n",
        "print(f\"Произведение отрицательных элементов {proiz} и их количество {kolvo}\")"
      ],
      "metadata": {
        "colab": {
          "base_uri": "https://localhost:8080/"
        },
        "id": "xusUqKQHzrPE",
        "outputId": "57c3fcd3-06ac-4875-805b-d761e4844d7c"
      },
      "execution_count": 2,
      "outputs": [
        {
          "output_type": "stream",
          "name": "stdout",
          "text": [
            "Произведение отрицательных элементов 150 и их количество 4\n"
          ]
        }
      ]
    },
    {
      "cell_type": "markdown",
      "source": [
        "2.\tДан целочисленный массив размера N. Вывести все содержащиеся в данном массиве нечетные числа в порядке возрастания их индексов, а также их количество K."
      ],
      "metadata": {
        "id": "FVsi1wqe1FgI"
      }
    },
    {
      "cell_type": "code",
      "source": [
        "mas=[-100,35,-1,66,-1000,65,77,88]\n",
        "kolvo=0\n",
        "print(\"нечетные элементы в массиве: \")\n",
        "for i in range (len(mas)):\n",
        "  if mas[i]%2!=0:\n",
        "    kolvo+=1\n",
        "    print(mas[i])\n",
        "print(f\"количество нечетныx элементов {kolvo}\")"
      ],
      "metadata": {
        "colab": {
          "base_uri": "https://localhost:8080/"
        },
        "id": "8Yb3YlGE1Is6",
        "outputId": "79f14a79-810a-46f7-9c15-438498e135c6"
      },
      "execution_count": 5,
      "outputs": [
        {
          "output_type": "stream",
          "name": "stdout",
          "text": [
            "нечетные элементы в массиве: \n",
            "35\n",
            "-1\n",
            "65\n",
            "77\n",
            "количество нечетныx элементов 4\n"
          ]
        }
      ]
    },
    {
      "cell_type": "markdown",
      "source": [
        "3.\tДан массив размера N. Осуществить сдвиг элементов массива влево на одну позицию (при этом AN перейдет в AN–1, AN–1 — в AN–2, …, A2 — в A1,  a исходное значение первого элемента будет потеряно). Последний элемент полученного массива положить равным 0."
      ],
      "metadata": {
        "id": "3qvsb06b2mcg"
      }
    },
    {
      "cell_type": "code",
      "source": [
        "mas=[2,5,6,8,3,6,9,6]\n",
        "print(f\"исходный массив: {mas}\")\n",
        "\n",
        "for i in range(len(mas)):\n",
        "  if i!=(len(mas)-1):\n",
        "    mas[i]=mas[i+1]\n",
        "  else:\n",
        "    mas[len(mas)-2]=mas[len(mas)-1]\n",
        "    mas[len(mas)-1]=0\n",
        "\n",
        "print(f\"новый массив: {mas}\")"
      ],
      "metadata": {
        "colab": {
          "base_uri": "https://localhost:8080/"
        },
        "id": "-NW7FUaZ2rYr",
        "outputId": "2090a18b-c7f9-48c6-a67f-42c5d9f8f03b"
      },
      "execution_count": 19,
      "outputs": [
        {
          "output_type": "stream",
          "name": "stdout",
          "text": [
            "исходный массив: [2, 5, 6, 8, 3, 6, 9, 6]\n",
            "новый массив: [5, 6, 8, 3, 6, 9, 6, 0]\n"
          ]
        }
      ]
    },
    {
      "cell_type": "markdown",
      "source": [
        "4.\tДан целочисленный двумерный массив, размерности n х m. Найти среднее арифметическое всех элементов массива."
      ],
      "metadata": {
        "id": "iDpD9Sv-6Zuw"
      }
    },
    {
      "cell_type": "code",
      "source": [
        "matrix = [\n",
        "  [1,2,3,4],\n",
        "  [2,5,6,7],\n",
        "  [2,3,2,2]\n",
        "]\n",
        "kolvo_elem=0\n",
        "sum_elem=0\n",
        "\n",
        "for row in matrix:\n",
        "  kolvo_elem+=len(row)\n",
        "  sum_elem+=sum(row)\n",
        "\n",
        "sr_arif=sum_elem/kolvo_elem\n",
        "print(f\"среднее арифметическое: {sr_arif}\")"
      ],
      "metadata": {
        "colab": {
          "base_uri": "https://localhost:8080/"
        },
        "id": "i-1-QBUs6eZF",
        "outputId": "312e90dd-3f6a-44e2-835d-b932d40aa878"
      },
      "execution_count": 25,
      "outputs": [
        {
          "output_type": "stream",
          "name": "stdout",
          "text": [
            "среднее арифметическое: 3.25\n"
          ]
        }
      ]
    },
    {
      "cell_type": "markdown",
      "source": [
        "Dictionary\n",
        "\n",
        "\n",
        "1. Подсчет частоты слов: Напишите функцию, которая принимает строку и возвращает словарь, где ключи — это слова, а значения — их частота в строке."
      ],
      "metadata": {
        "id": "nC-SGsFW8jKU"
      }
    },
    {
      "cell_type": "code",
      "source": [
        "def word_frequency(text):\n",
        "    words = text.lower().split()\n",
        "    frequency = {}\n",
        "    for word in words:\n",
        "        word = word.strip('.,!?;\"()[]{}')\n",
        "        if word in frequency:\n",
        "            frequency[word] += 1\n",
        "        else:\n",
        "            frequency[word] = 1\n",
        "    return frequency\n",
        "\n",
        "text = \"Apple, Aliya, friend, apple, you. wow, wow.\"\n",
        "frequency_dict=word_frequency(text)\n",
        "print(frequency_dict)\n"
      ],
      "metadata": {
        "colab": {
          "base_uri": "https://localhost:8080/"
        },
        "id": "QHwXiN6c8uUd",
        "outputId": "86a83e49-c3a7-4a20-b6d2-346b535f76fb"
      },
      "execution_count": 47,
      "outputs": [
        {
          "output_type": "stream",
          "name": "stdout",
          "text": [
            "{'apple': 2, 'aliya': 1, 'friend': 1, 'you': 1, 'wow': 2}\n"
          ]
        }
      ]
    },
    {
      "cell_type": "markdown",
      "source": [
        "2. Инвертирование словаря: Напишите функцию, которая принимает словарь и возвращает новый словарь, где ключи и значения поменяны местами. Если значения не уникальны, объедините ключи в список."
      ],
      "metadata": {
        "id": "spUOHmbo-xBG"
      }
    },
    {
      "cell_type": "code",
      "source": [
        "def new_dict(dictionary):\n",
        "  new={}\n",
        "  for key,value in dictionary.items():\n",
        "    if value in new:\n",
        "      if isinstance(new[value], list):\n",
        "        new[value].append(key)\n",
        "      else:\n",
        "        new[value] = [new[value], key]\n",
        "    else:\n",
        "      new[value] = key\n",
        "\n",
        "  return new\n",
        "\n",
        "dictionary = {\n",
        "    'a': 1,\n",
        "    'b': 2,\n",
        "    'c': 1,\n",
        "    'd': 3\n",
        "}\n",
        "new_dictionary=new_dict(dictionary)\n",
        "print(new_dictionary)"
      ],
      "metadata": {
        "colab": {
          "base_uri": "https://localhost:8080/"
        },
        "id": "n0981Pjj-0_C",
        "outputId": "44f54c44-2261-4614-f5c4-f4f0b7127440"
      },
      "execution_count": 51,
      "outputs": [
        {
          "output_type": "stream",
          "name": "stdout",
          "text": [
            "{1: ['a', 'c'], 2: 'b', 3: 'd'}\n"
          ]
        }
      ]
    },
    {
      "cell_type": "markdown",
      "source": [
        "3. Слияние словарей: Напишите функцию, которая принимает два словаря и возвращает новый словарь, содержащий все ключи из обоих словарей. Если ключи совпадают, значения должны быть суммированы."
      ],
      "metadata": {
        "id": "7NXOhOiSFGsU"
      }
    },
    {
      "cell_type": "code",
      "source": [
        "def sum_dict(dictionary1, dictionary2):\n",
        "    new = {}\n",
        "    for key, value in dictionary1.items():\n",
        "        if key in new:\n",
        "            new[key] += value\n",
        "        else:\n",
        "            new[key] = value\n",
        "\n",
        "    for key, value in dictionary2.items():\n",
        "        if key in new:\n",
        "            new[key] += value\n",
        "        else:\n",
        "            new[key] = value\n",
        "\n",
        "    return new\n",
        "\n",
        "dictionary1 = {\n",
        "    'a': 1,\n",
        "    'b': 2,\n",
        "    'c': 1,\n",
        "    'd': 3\n",
        "}\n",
        "\n",
        "dictionary2 = {\n",
        "    'e': 1,\n",
        "    'd': 2,\n",
        "    'c': 3,\n",
        "    'f': 5\n",
        "}\n",
        "\n",
        "result = sum_dict(dictionary1, dictionary2)\n",
        "print(result)\n"
      ],
      "metadata": {
        "colab": {
          "base_uri": "https://localhost:8080/"
        },
        "id": "gewfbkq8IZtk",
        "outputId": "88fb4125-9f79-49e9-e395-3f6e5c5a1c4b"
      },
      "execution_count": 60,
      "outputs": [
        {
          "output_type": "stream",
          "name": "stdout",
          "text": [
            "{'a': 1, 'b': 2, 'c': 4, 'd': 5, 'e': 1, 'f': 5}\n"
          ]
        }
      ]
    }
  ]
}