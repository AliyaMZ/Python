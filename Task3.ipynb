{
  "nbformat": 4,
  "nbformat_minor": 0,
  "metadata": {
    "colab": {
      "provenance": [],
      "authorship_tag": "ABX9TyPOwfsrBmYe+1lAsdGymxjt",
      "include_colab_link": true
    },
    "kernelspec": {
      "name": "python3",
      "display_name": "Python 3"
    },
    "language_info": {
      "name": "python"
    }
  },
  "cells": [
    {
      "cell_type": "markdown",
      "metadata": {
        "id": "view-in-github",
        "colab_type": "text"
      },
      "source": [
        "<a href=\"https://colab.research.google.com/github/AliyaMZ/Python/blob/main/Task3.ipynb\" target=\"_parent\"><img src=\"https://colab.research.google.com/assets/colab-badge.svg\" alt=\"Open In Colab\"/></a>"
      ]
    },
    {
      "cell_type": "markdown",
      "source": [
        "Вариант 8\n",
        "\n",
        "Гиззатуллина Алия\n",
        "\n",
        "1.\tНайти количество и произведение отрицательных элементов."
      ],
      "metadata": {
        "id": "6FDT6LVjzLiB"
      }
    },
    {
      "cell_type": "code",
      "source": [
        "mas=[-1,2,-3,4,-5,6,7,8,9,-10]\n",
        "proiz=1\n",
        "kolvo=0\n",
        "for i in mas:\n",
        "  if i<0:\n",
        "    proiz=proiz*i\n",
        "    kolvo+=1\n",
        "print(f\"Произведение отрицательных элементов {proiz} и их количество {kolvo}\")"
      ],
      "metadata": {
        "colab": {
          "base_uri": "https://localhost:8080/"
        },
        "id": "xusUqKQHzrPE",
        "outputId": "57c3fcd3-06ac-4875-805b-d761e4844d7c"
      },
      "execution_count": null,
      "outputs": [
        {
          "output_type": "stream",
          "name": "stdout",
          "text": [
            "Произведение отрицательных элементов 150 и их количество 4\n"
          ]
        }
      ]
    },
    {
      "cell_type": "markdown",
      "source": [
        "2.\tДан целочисленный массив размера N. Вывести все содержащиеся в данном массиве нечетные числа в порядке возрастания их индексов, а также их количество K."
      ],
      "metadata": {
        "id": "FVsi1wqe1FgI"
      }
    },
    {
      "cell_type": "code",
      "source": [
        "mas=[-100,35,-1,66,-1000,65,77,88]\n",
        "kolvo=0\n",
        "print(\"нечетные элементы в массиве: \")\n",
        "for i in range (len(mas)):\n",
        "  if mas[i]%2!=0:\n",
        "    kolvo+=1\n",
        "    print(mas[i])\n",
        "print(f\"количество нечетныx элементов {kolvo}\")"
      ],
      "metadata": {
        "colab": {
          "base_uri": "https://localhost:8080/"
        },
        "id": "8Yb3YlGE1Is6",
        "outputId": "79f14a79-810a-46f7-9c15-438498e135c6"
      },
      "execution_count": null,
      "outputs": [
        {
          "output_type": "stream",
          "name": "stdout",
          "text": [
            "нечетные элементы в массиве: \n",
            "35\n",
            "-1\n",
            "65\n",
            "77\n",
            "количество нечетныx элементов 4\n"
          ]
        }
      ]
    },
    {
      "cell_type": "markdown",
      "source": [
        "3.\tДан массив размера N. Осуществить сдвиг элементов массива влево на одну позицию (при этом AN перейдет в AN–1, AN–1 — в AN–2, …, A2 — в A1,  a исходное значение первого элемента будет потеряно). Последний элемент полученного массива положить равным 0."
      ],
      "metadata": {
        "id": "3qvsb06b2mcg"
      }
    },
    {
      "cell_type": "code",
      "source": [
        "mas=[2,5,6,8,3,6,9,6]\n",
        "print(f\"исходный массив: {mas}\")\n",
        "\n",
        "for i in range(len(mas)):\n",
        "  if i!=(len(mas)-1):\n",
        "    mas[i]=mas[i+1]\n",
        "  else:\n",
        "    mas[len(mas)-2]=mas[len(mas)-1]\n",
        "    mas[len(mas)-1]=0\n",
        "\n",
        "print(f\"новый массив: {mas}\")"
      ],
      "metadata": {
        "colab": {
          "base_uri": "https://localhost:8080/"
        },
        "id": "-NW7FUaZ2rYr",
        "outputId": "2090a18b-c7f9-48c6-a67f-42c5d9f8f03b"
      },
      "execution_count": null,
      "outputs": [
        {
          "output_type": "stream",
          "name": "stdout",
          "text": [
            "исходный массив: [2, 5, 6, 8, 3, 6, 9, 6]\n",
            "новый массив: [5, 6, 8, 3, 6, 9, 6, 0]\n"
          ]
        }
      ]
    },
    {
      "cell_type": "markdown",
      "source": [
        "4.\tДан целочисленный двумерный массив, размерности n х m. Найти среднее арифметическое всех элементов массива."
      ],
      "metadata": {
        "id": "iDpD9Sv-6Zuw"
      }
    },
    {
      "cell_type": "code",
      "source": [
        "matrix = [\n",
        "  [1,2,3,4],\n",
        "  [2,5,6,7],\n",
        "  [2,3,2,2]\n",
        "]\n",
        "kolvo_elem=0\n",
        "sum_elem=0\n",
        "\n",
        "for row in matrix:\n",
        "  kolvo_elem+=len(row)\n",
        "  sum_elem+=sum(row)\n",
        "\n",
        "sr_arif=sum_elem/kolvo_elem\n",
        "print(f\"среднее арифметическое: {sr_arif}\")"
      ],
      "metadata": {
        "colab": {
          "base_uri": "https://localhost:8080/"
        },
        "id": "i-1-QBUs6eZF",
        "outputId": "312e90dd-3f6a-44e2-835d-b932d40aa878"
      },
      "execution_count": null,
      "outputs": [
        {
          "output_type": "stream",
          "name": "stdout",
          "text": [
            "среднее арифметическое: 3.25\n"
          ]
        }
      ]
    },
    {
      "cell_type": "markdown",
      "source": [
        "Dictionary\n",
        "\n",
        "\n",
        "1. Подсчет частоты слов: Напишите функцию, которая принимает строку и возвращает словарь, где ключи — это слова, а значения — их частота в строке."
      ],
      "metadata": {
        "id": "nC-SGsFW8jKU"
      }
    },
    {
      "cell_type": "code",
      "source": [
        "def word_frequency(text):\n",
        "  words = text.lower().split()\n",
        "  frequency = {}\n",
        "  for word in words:\n",
        "      word = word.strip('.,!?;\"()[]{}')\n",
        "      if word in frequency:\n",
        "          frequency[word] += 1\n",
        "      else:\n",
        "          frequency[word] = 1\n",
        "  return frequency\n",
        "\n",
        "text = \"Apple, Aliya, friend, apple, you. wow, wow.\"\n",
        "frequency_dict=word_frequency(text)\n",
        "print(frequency_dict)\n"
      ],
      "metadata": {
        "colab": {
          "base_uri": "https://localhost:8080/"
        },
        "id": "QHwXiN6c8uUd",
        "outputId": "86a83e49-c3a7-4a20-b6d2-346b535f76fb"
      },
      "execution_count": null,
      "outputs": [
        {
          "output_type": "stream",
          "name": "stdout",
          "text": [
            "{'apple': 2, 'aliya': 1, 'friend': 1, 'you': 1, 'wow': 2}\n"
          ]
        }
      ]
    },
    {
      "cell_type": "markdown",
      "source": [
        "2. Инвертирование словаря: Напишите функцию, которая принимает словарь и возвращает новый словарь, где ключи и значения поменяны местами. Если значения не уникальны, объедините ключи в список."
      ],
      "metadata": {
        "id": "spUOHmbo-xBG"
      }
    },
    {
      "cell_type": "code",
      "source": [
        "def new_dict(dictionary):\n",
        "  new={}\n",
        "  for key,value in dictionary.items():\n",
        "    if value in new:\n",
        "      if isinstance(new[value], list):\n",
        "        new[value].append(key)\n",
        "      else:\n",
        "        new[value] = [new[value], key]\n",
        "    else:\n",
        "      new[value] = key\n",
        "\n",
        "  return new\n",
        "\n",
        "dictionary = {\n",
        "    'a': 1,\n",
        "    'b': 2,\n",
        "    'c': 1,\n",
        "    'd': 3\n",
        "}\n",
        "new_dictionary=new_dict(dictionary)\n",
        "print(new_dictionary)"
      ],
      "metadata": {
        "colab": {
          "base_uri": "https://localhost:8080/"
        },
        "id": "n0981Pjj-0_C",
        "outputId": "44f54c44-2261-4614-f5c4-f4f0b7127440"
      },
      "execution_count": null,
      "outputs": [
        {
          "output_type": "stream",
          "name": "stdout",
          "text": [
            "{1: ['a', 'c'], 2: 'b', 3: 'd'}\n"
          ]
        }
      ]
    },
    {
      "cell_type": "markdown",
      "source": [
        "3. Слияние словарей: Напишите функцию, которая принимает два словаря и возвращает новый словарь, содержащий все ключи из обоих словарей. Если ключи совпадают, значения должны быть суммированы."
      ],
      "metadata": {
        "id": "7NXOhOiSFGsU"
      }
    },
    {
      "cell_type": "code",
      "source": [
        "def sum_dict(dictionary1, dictionary2):\n",
        "  new = {}\n",
        "  for key, value in dictionary1.items():\n",
        "      if key in new:\n",
        "          new[key] += value\n",
        "      else:\n",
        "          new[key] = value\n",
        "\n",
        "  for key, value in dictionary2.items():\n",
        "      if key in new:\n",
        "          new[key] += value\n",
        "      else:\n",
        "          new[key] = value\n",
        "\n",
        "  return new\n",
        "\n",
        "dictionary1 = {\n",
        "  'a': 1,\n",
        "  'b': 2,\n",
        "  'c': 1,\n",
        "  'd': 3\n",
        "}\n",
        "\n",
        "dictionary2 = {\n",
        "  'e': 1,\n",
        "  'd': 2,\n",
        "  'c': 3,\n",
        "  'f': 5\n",
        "}\n",
        "\n",
        "result = sum_dict(dictionary1, dictionary2)\n",
        "print(result)\n"
      ],
      "metadata": {
        "colab": {
          "base_uri": "https://localhost:8080/"
        },
        "id": "gewfbkq8IZtk",
        "outputId": "88fb4125-9f79-49e9-e395-3f6e5c5a1c4b"
      },
      "execution_count": null,
      "outputs": [
        {
          "output_type": "stream",
          "name": "stdout",
          "text": [
            "{'a': 1, 'b': 2, 'c': 4, 'd': 5, 'e': 1, 'f': 5}\n"
          ]
        }
      ]
    },
    {
      "cell_type": "markdown",
      "source": [
        "4. Максимальное значение: Напишите функцию, которая находит ключ с максимальным значением в словаре.\n",
        "\n"
      ],
      "metadata": {
        "id": "_KbPkGt8Psm7"
      }
    },
    {
      "cell_type": "code",
      "source": [
        "def max_key(dictionary):\n",
        "  max=-100000\n",
        "  max_key=0\n",
        "  for key, value in dictionary.items():\n",
        "    if value > max:\n",
        "      max=value\n",
        "      max_key=key\n",
        "  return max_key\n",
        "\n",
        "dictionary = {\n",
        "    'e': 1,\n",
        "    'd': 2,\n",
        "    'c': 3,\n",
        "    'f': 5\n",
        "}\n",
        "\n",
        "maxkey=max_key(dictionary)\n",
        "print(f\"максимальный ключ: {maxkey}\")"
      ],
      "metadata": {
        "colab": {
          "base_uri": "https://localhost:8080/"
        },
        "id": "MGmMMNY0P4dV",
        "outputId": "6476de48-e97e-4ebc-e617-6097d0326cd3"
      },
      "execution_count": null,
      "outputs": [
        {
          "output_type": "stream",
          "name": "stdout",
          "text": [
            "максимальный ключ: f\n"
          ]
        }
      ]
    },
    {
      "cell_type": "markdown",
      "source": [
        "5. Минимальное значение: Напишите функцию, которая находит ключ с минимальным значением в словаре."
      ],
      "metadata": {
        "id": "_gXUG8pDRdpg"
      }
    },
    {
      "cell_type": "code",
      "source": [
        "def min_key(dictionary):\n",
        "  min=100000\n",
        "  min_key=0\n",
        "  for key, value in dictionary.items():\n",
        "    if value < min:\n",
        "      min=value\n",
        "      min_key=key\n",
        "  return min_key\n",
        "\n",
        "dictionary = {\n",
        "    'e': 1,\n",
        "    'd': 2,\n",
        "    'c': 3,\n",
        "    'f': 5\n",
        "}\n",
        "\n",
        "minkey=min_key(dictionary)\n",
        "print(f\"минимальный ключ: {minkey}\")"
      ],
      "metadata": {
        "colab": {
          "base_uri": "https://localhost:8080/"
        },
        "id": "sxiOAb_dRjT8",
        "outputId": "491ad13f-8e18-4b66-f800-c89db3d0c1b6"
      },
      "execution_count": null,
      "outputs": [
        {
          "output_type": "stream",
          "name": "stdout",
          "text": [
            "минимальный ключ: e\n"
          ]
        }
      ]
    },
    {
      "cell_type": "markdown",
      "source": [
        "6. Удаление ключей: Напишите функцию, которая принимает словарь и список ключей, и удаляет из словаря все указанные ключи."
      ],
      "metadata": {
        "id": "G9j5W2xdSbnQ"
      }
    },
    {
      "cell_type": "code",
      "source": [
        "def remove_keys(dictionary, keys_remove):\n",
        "  for key in keys_remove:\n",
        "    del dictionary[key]\n",
        "  return dictionary\n",
        "\n",
        "dictionary = {\n",
        "  'a': 1,\n",
        "  'b': 2,\n",
        "  'c': 3,\n",
        "  'd': 4\n",
        "}\n",
        "\n",
        "keys_remove = ['b', 'd']\n",
        "\n",
        "result = remove_keys(dictionary, keys_remove)\n",
        "print(result)\n"
      ],
      "metadata": {
        "colab": {
          "base_uri": "https://localhost:8080/"
        },
        "id": "CmgpvuVlSgCg",
        "outputId": "d4d7c3bf-2bb0-4508-b048-8801ae8a963b"
      },
      "execution_count": 22,
      "outputs": [
        {
          "output_type": "stream",
          "name": "stdout",
          "text": [
            "{'a': 1, 'c': 3}\n"
          ]
        }
      ]
    },
    {
      "cell_type": "markdown",
      "source": [
        "7. Группировка по длине ключей: Напишите функцию, которая группирует ключи словаря по их длине и возвращает словарь, где ключи — это длины, а значения — списки ключей соответствующей длины."
      ],
      "metadata": {
        "id": "8cbXqv6-TOLK"
      }
    },
    {
      "cell_type": "code",
      "source": [
        "def group_length(dictionary):\n",
        "  new = {}\n",
        "  for key in dictionary.keys():\n",
        "      key_length = len(key)\n",
        "      if key_length not in new:\n",
        "          new[key_length] = []\n",
        "      new[key_length].append(key)\n",
        "  return new\n",
        "\n",
        "dictionary = {\n",
        "  'apple': 1,\n",
        "  'banana': 2,\n",
        "  'kiwi': 3,\n",
        "  'fig': 4,\n",
        "  'grape': 5\n",
        "}\n",
        "\n",
        "result = group_length(dictionary)\n",
        "print(result)"
      ],
      "metadata": {
        "colab": {
          "base_uri": "https://localhost:8080/"
        },
        "id": "prUhM0hDUg9i",
        "outputId": "d70bfd5a-d68f-4d75-e0be-3fc544179e6a"
      },
      "execution_count": null,
      "outputs": [
        {
          "output_type": "stream",
          "name": "stdout",
          "text": [
            "{5: ['apple', 'grape'], 6: ['banana'], 4: ['kiwi'], 3: ['fig']}\n"
          ]
        }
      ]
    },
    {
      "cell_type": "markdown",
      "source": [
        "8. Поиск ключей по значению: Напишите функцию, которая принимает словарь и значение, и возвращает список всех ключей, связанных с этим значением."
      ],
      "metadata": {
        "id": "XZwhff12VkFW"
      }
    },
    {
      "cell_type": "code",
      "source": [
        "def print_keys(dictionary,the_value):\n",
        "  print (\"список по значению: \")\n",
        "  for key,value in dictionary.items():\n",
        "    if (value==the_value):\n",
        "      print(key)\n",
        "\n",
        "the_value=input(\"введите значение: \")\n",
        "dictionary = {\n",
        "  'apple': \"fruit\",\n",
        "  'banana': \"fruit\",\n",
        "  'tomato': \"vegetable\",\n",
        "  'fig': \"fruit\",\n",
        "  'potato': \"vegetable\"\n",
        "}\n",
        "\n",
        "print_keys(dictionary,the_value)"
      ],
      "metadata": {
        "colab": {
          "base_uri": "https://localhost:8080/"
        },
        "id": "xXCrN0n7VpSD",
        "outputId": "7e9a01b6-81be-434c-be73-56fa2b2d33c1"
      },
      "execution_count": null,
      "outputs": [
        {
          "output_type": "stream",
          "name": "stdout",
          "text": [
            "введите значение: fruit\n",
            "список по значению: \n",
            "apple\n",
            "banana\n",
            "fig\n"
          ]
        }
      ]
    },
    {
      "cell_type": "markdown",
      "source": [
        "9. Объединение значений: Напишите функцию, которая принимает два словаря и объединяет их значения в списки для каждого ключа."
      ],
      "metadata": {
        "id": "Me0_opuHXAbO"
      }
    },
    {
      "cell_type": "code",
      "source": [
        "def merge_dict(dict1, dict2):\n",
        "  new = {}\n",
        "  all_keys = set(dict1.keys()).union(set(dict2.keys()))\n",
        "  for key in all_keys:\n",
        "      values = []\n",
        "      if key in dict1:\n",
        "          values.append(dict1[key])\n",
        "      if key in dict2:\n",
        "          values.append(dict2[key])\n",
        "\n",
        "      new[key] = values\n",
        "\n",
        "  return new\n",
        "\n",
        "dict1 = {\n",
        "  'a': 1,\n",
        "  'b': 2,\n",
        "  'c': 3\n",
        "}\n",
        "\n",
        "dict2 = {\n",
        "  'b': 4,\n",
        "  'c': 5,\n",
        "  'd': 6\n",
        "}\n",
        "\n",
        "result = merge_dict(dict1, dict2)\n",
        "print(result)\n"
      ],
      "metadata": {
        "colab": {
          "base_uri": "https://localhost:8080/"
        },
        "id": "ibTXJnxaXHUE",
        "outputId": "e671fe5f-3df2-4edb-c28d-867e8d373625"
      },
      "execution_count": 21,
      "outputs": [
        {
          "output_type": "stream",
          "name": "stdout",
          "text": [
            "{'c': [3, 5], 'd': [6], 'b': [2, 4], 'a': [1]}\n"
          ]
        }
      ]
    },
    {
      "cell_type": "markdown",
      "source": [
        "10. Напишите функцию, которая вычисляет сумму всех значений в словаре."
      ],
      "metadata": {
        "id": "UTM9n2hpX6Od"
      }
    },
    {
      "cell_type": "code",
      "source": [
        "def sum(dictionary):\n",
        "  sum=0\n",
        "  for value in dictionary.values():\n",
        "    sum+=value\n",
        "  return sum\n",
        "\n",
        "dictionary = {\n",
        "    'a': 10,\n",
        "    'b': 20,\n",
        "    'c': 30\n",
        "}\n",
        "summ=sum(dictionary)\n",
        "print(f\"сумма значений = {summ}\")"
      ],
      "metadata": {
        "colab": {
          "base_uri": "https://localhost:8080/"
        },
        "id": "_GcXZzkbYEg_",
        "outputId": "9f7145fe-5af0-4d1b-81fa-e5f1a53ebf99"
      },
      "execution_count": null,
      "outputs": [
        {
          "output_type": "stream",
          "name": "stdout",
          "text": [
            "сумма значений = 60\n"
          ]
        }
      ]
    },
    {
      "cell_type": "markdown",
      "source": [
        "Множества\n",
        "\n",
        "1. Пересечение множеств: Напишите функцию, которая принимает два множества и возвращает их пересечение.\n"
      ],
      "metadata": {
        "id": "a4jagxjYZAMB"
      }
    },
    {
      "cell_type": "code",
      "source": [
        "def intersection(set1,set2):\n",
        "  new=set()\n",
        "  for i in set1:\n",
        "    for i in set2:\n",
        "      if i in set1 and i in set2:\n",
        "          new.add(i)\n",
        "  return new\n",
        "\n",
        "set1={1,2,3,4}\n",
        "set2={3,4,5,6}\n",
        "new=intersection(set1,set2)\n",
        "print(new)"
      ],
      "metadata": {
        "colab": {
          "base_uri": "https://localhost:8080/"
        },
        "id": "ei-V3RA-ZnMB",
        "outputId": "e6cefd72-99f0-4f94-bb20-f1b983c94a57"
      },
      "execution_count": null,
      "outputs": [
        {
          "output_type": "stream",
          "name": "stdout",
          "text": [
            "{3, 4}\n"
          ]
        }
      ]
    },
    {
      "cell_type": "markdown",
      "source": [
        "2. Объединение множеств: Напишите функцию, которая принимает два множества и возвращает их объединение."
      ],
      "metadata": {
        "id": "jobqmHveauoT"
      }
    },
    {
      "cell_type": "code",
      "source": [
        "def union(set1,set2):\n",
        "  new=set()\n",
        "  for i in set1:\n",
        "    if i not in new:\n",
        "        new.add(i)\n",
        "  for i in set2:\n",
        "    if i not in new:\n",
        "        new.add(i)\n",
        "  return new\n",
        "\n",
        "set1={1,2,3,4}\n",
        "set2={3,4,5,6}\n",
        "new=union(set1,set2)\n",
        "print(new)"
      ],
      "metadata": {
        "colab": {
          "base_uri": "https://localhost:8080/"
        },
        "id": "mD10nPCVaxgw",
        "outputId": "c950df14-d87c-450f-9a29-c432db57b876"
      },
      "execution_count": null,
      "outputs": [
        {
          "output_type": "stream",
          "name": "stdout",
          "text": [
            "{1, 2, 3, 4, 5, 6}\n"
          ]
        }
      ]
    },
    {
      "cell_type": "markdown",
      "source": [
        "3. Разность множеств: Напишите функцию, которая принимает два множества и возвращает разность первого множества и второго.\n",
        "\n"
      ],
      "metadata": {
        "id": "tX21J9-IbM9h"
      }
    },
    {
      "cell_type": "code",
      "source": [
        "def difference(set1,set2):\n",
        "  new=set()\n",
        "  for i in set1:\n",
        "    if i in set1 and i not in set2:\n",
        "        new.add(i)\n",
        "  return new\n",
        "\n",
        "set1={1,2,3,4}\n",
        "set2={3,4,5,6}\n",
        "new=difference(set1,set2)\n",
        "print(new)"
      ],
      "metadata": {
        "colab": {
          "base_uri": "https://localhost:8080/"
        },
        "id": "NaSLo0BCbQ_Y",
        "outputId": "b393e8c1-fb9c-423f-af52-66e08f57e8cd"
      },
      "execution_count": null,
      "outputs": [
        {
          "output_type": "stream",
          "name": "stdout",
          "text": [
            "{1, 2}\n"
          ]
        }
      ]
    },
    {
      "cell_type": "markdown",
      "source": [
        "4. Симметрическая разность: Напишите функцию, которая принимает два множества и возвращает их симметрическую разность."
      ],
      "metadata": {
        "id": "MZgesWrocKVI"
      }
    },
    {
      "cell_type": "code",
      "source": [
        "def sym_difference(set1,set2):\n",
        "  new=set()\n",
        "  for i in set1:\n",
        "    if i in set1 and i not in set2:\n",
        "        new.add(i)\n",
        "  for i in set2:\n",
        "    if i not in new and i not in set1:\n",
        "      new.add(i)\n",
        "  return new\n",
        "\n",
        "set1={1,2,3,4}\n",
        "set2={3,4,5,6}\n",
        "new=sym_difference(set1,set2)\n",
        "print(new)"
      ],
      "metadata": {
        "colab": {
          "base_uri": "https://localhost:8080/"
        },
        "id": "fYeIYS-mcL25",
        "outputId": "d7de1d4e-69b0-421d-d772-c7a8ae330d03"
      },
      "execution_count": null,
      "outputs": [
        {
          "output_type": "stream",
          "name": "stdout",
          "text": [
            "{1, 2, 5, 6}\n"
          ]
        }
      ]
    },
    {
      "cell_type": "markdown",
      "source": [
        "5. Проверка подмножества: Напишите функцию, которая проверяет, является ли одно множество подмножеством другого."
      ],
      "metadata": {
        "id": "5fa4DblrcyXT"
      }
    },
    {
      "cell_type": "code",
      "source": [
        "def check(set1,set2):\n",
        "  t=True\n",
        "  for i in set2:\n",
        "    if i not in set1:\n",
        "      t=False\n",
        "      break\n",
        "  if t:\n",
        "    print(\"является подмножеством\")\n",
        "  else:\n",
        "    print(\"не является подмножеством\")\n",
        "\n",
        "set1={1,2,3,4}\n",
        "set2={3,4}\n",
        "set3={77,88}\n",
        "check(set1,set2)\n",
        "check(set1,set3)"
      ],
      "metadata": {
        "colab": {
          "base_uri": "https://localhost:8080/"
        },
        "id": "-8ZUn3nKc3Se",
        "outputId": "00589b7a-e72e-4250-bd02-08fa39fdfac4"
      },
      "execution_count": null,
      "outputs": [
        {
          "output_type": "stream",
          "name": "stdout",
          "text": [
            "является подмножеством\n",
            "не является подмножеством\n"
          ]
        }
      ]
    },
    {
      "cell_type": "markdown",
      "source": [
        "6. Проверка надмножества: Напишите функцию, которая проверяет, является ли одно множество надмножеством другого."
      ],
      "metadata": {
        "id": "OvGf9iCWe6px"
      }
    },
    {
      "cell_type": "code",
      "source": [
        "def check(set1,set2):\n",
        "  t=True\n",
        "  for i in set1:\n",
        "    if i in set2:\n",
        "      t=True\n",
        "    else:\n",
        "      t=False\n",
        "  if t:\n",
        "    print(\"является надмножеством\")\n",
        "  else:\n",
        "    print(\"не является надмножеством\")\n",
        "\n",
        "set1={1,2,3,4}\n",
        "set2={3,4}\n",
        "set3={77,88}\n",
        "check(set1,set2)\n",
        "check(set1,set3)"
      ],
      "metadata": {
        "colab": {
          "base_uri": "https://localhost:8080/"
        },
        "id": "lemN57QafCdD",
        "outputId": "23a84fb7-07c0-4c43-ea3c-a99265732793"
      },
      "execution_count": null,
      "outputs": [
        {
          "output_type": "stream",
          "name": "stdout",
          "text": [
            "является надмножеством\n",
            "не является надмножеством\n"
          ]
        }
      ]
    },
    {
      "cell_type": "markdown",
      "source": [
        "7. Количество уникальных элементов: Напишите функцию, которая возвращает количество уникальных элементов в списке с помощью множества."
      ],
      "metadata": {
        "id": "SnjZKjQgfkRC"
      }
    },
    {
      "cell_type": "code",
      "source": [
        "def kolvo(mas):\n",
        "  new=set(mas)\n",
        "  return len(new)\n",
        "mas=[2,2,4,5,6,7,6,7]\n",
        "k=kolvo(mas)\n",
        "print (f\"количество уникальных элементов {k}\")"
      ],
      "metadata": {
        "colab": {
          "base_uri": "https://localhost:8080/"
        },
        "id": "oFhy7W02fwLo",
        "outputId": "308421b5-e462-4c34-f0aa-41b7d4069e22"
      },
      "execution_count": null,
      "outputs": [
        {
          "output_type": "stream",
          "name": "stdout",
          "text": [
            "количество уникальных элементов 5\n"
          ]
        }
      ]
    },
    {
      "cell_type": "markdown",
      "source": [
        "8. Максимальный элемент: Напишите функцию, которая находит максимальный элемент в множестве.\n",
        "\n"
      ],
      "metadata": {
        "id": "luv53Uk8gStE"
      }
    },
    {
      "cell_type": "code",
      "source": [
        "def max_elem(sett):\n",
        "  max=-1000000\n",
        "  for i in sett:\n",
        "    if i > max:\n",
        "      max=i\n",
        "  return max\n",
        "\n",
        "sett={2,44,500,2,-5}\n",
        "max=max_elem(sett)\n",
        "print(f\"максимальный элемент: {max}\")"
      ],
      "metadata": {
        "colab": {
          "base_uri": "https://localhost:8080/"
        },
        "id": "6WfXn1v7gaUt",
        "outputId": "d1614bc0-2beb-4184-9c40-73ae132f87e2"
      },
      "execution_count": null,
      "outputs": [
        {
          "output_type": "stream",
          "name": "stdout",
          "text": [
            "максимальный элемент: 500\n"
          ]
        }
      ]
    },
    {
      "cell_type": "markdown",
      "source": [
        "9. Минимальный элемент: Напишите функцию, которая находит минимальный элемент в множестве."
      ],
      "metadata": {
        "id": "ppWe7Apeg1Kz"
      }
    },
    {
      "cell_type": "code",
      "source": [
        "def min_elem(sett):\n",
        "  min=1000000\n",
        "  for i in sett:\n",
        "    if i < min:\n",
        "      min=i\n",
        "  return min\n",
        "\n",
        "sett={2,44,500,2,-5}\n",
        "min=min_elem(sett)\n",
        "print(f\"минимальный элемент: {min}\")"
      ],
      "metadata": {
        "colab": {
          "base_uri": "https://localhost:8080/"
        },
        "id": "AwpZp6oGg4se",
        "outputId": "47928d4b-02ca-4c3e-d7aa-d7c5e7e0eb84"
      },
      "execution_count": null,
      "outputs": [
        {
          "output_type": "stream",
          "name": "stdout",
          "text": [
            "минимальный элемент: -5\n"
          ]
        }
      ]
    },
    {
      "cell_type": "markdown",
      "source": [
        "10. Сортировка множества: Напишите функцию, которая преобразует множество в отсортированный список."
      ],
      "metadata": {
        "id": "909llqrshEax"
      }
    },
    {
      "cell_type": "code",
      "source": [
        "def sorted(sett):\n",
        "  listt = list(sett)\n",
        "  for i in range(1, len(listt)):\n",
        "      key = listt[i]\n",
        "      j = i - 1\n",
        "      while j >= 0 and listt[j] > key:\n",
        "          listt[j + 1] = listt[j]\n",
        "          j -= 1\n",
        "      listt[j + 1] = key\n",
        "\n",
        "  return listt\n",
        "\n",
        "sett = {5, 3, 1, 4, 2}\n",
        "sorted_list = sorted(sett)\n",
        "print(sorted_list)\n"
      ],
      "metadata": {
        "colab": {
          "base_uri": "https://localhost:8080/"
        },
        "id": "uNtzggTPhI3O",
        "outputId": "27a47c2f-4f98-4b68-ef94-992c864782b0"
      },
      "execution_count": 1,
      "outputs": [
        {
          "output_type": "stream",
          "name": "stdout",
          "text": [
            "[1, 2, 3, 4, 5]\n"
          ]
        }
      ]
    },
    {
      "cell_type": "markdown",
      "source": [
        "Tuple\n",
        "\n",
        "1.Проверка на наличие элемента: Напишите функцию, которая проверяет, содержится ли заданный элемент в кортеже."
      ],
      "metadata": {
        "id": "4bU3oKX8iFIY"
      }
    },
    {
      "cell_type": "code",
      "source": [
        "def check(tup,elem):\n",
        "  if elem in tup:\n",
        "    print(\"элемент содержится в кортеже\")\n",
        "  else:\n",
        "    print(\"элемент не содержится в кортеже\")\n",
        "\n",
        "elem=input(\"Введите элемент: \")\n",
        "tup=(\"Artem\",\"Aliya\",\"Katya\",\"Alsu\",\"Sveta\")\n",
        "check(tup,elem)\n",
        "elem1=input(\"Введите элемент: \")\n",
        "check(tup,elem1)"
      ],
      "metadata": {
        "id": "hRX2_i7gvVVN",
        "outputId": "0129c7a0-c625-46f6-daa8-0a21ff9e6f93",
        "colab": {
          "base_uri": "https://localhost:8080/"
        }
      },
      "execution_count": 6,
      "outputs": [
        {
          "output_type": "stream",
          "name": "stdout",
          "text": [
            "Введите элемент: Danil\n",
            "элемент не содержится в кортеже\n",
            "Введите элемент: Sveta\n",
            "элемент содержится в кортеже\n"
          ]
        }
      ]
    },
    {
      "cell_type": "markdown",
      "source": [
        "2. Индекс первого вхождения: Напишите функцию, которая находит индекс первого вхождения заданного элемента в кортеже."
      ],
      "metadata": {
        "id": "J49GntQzw1z_"
      }
    },
    {
      "cell_type": "code",
      "source": [
        "def find_index(tup,elem):\n",
        "  index=0\n",
        "  for i in range (0,len(tup)):\n",
        "    if tup[i]==elem:\n",
        "      index=i\n",
        "      print(f\"индекс заданного элемента: {index}\")\n",
        "      break\n",
        "  if elem not in tup:\n",
        "    print(\"такого элемента нет в кортеже\")\n",
        "\n",
        "elem=input(\"Введите элемент: \")\n",
        "tup=(\"Artem\",\"Aliya\",\"Katya\",\"Alsu\",\"Sveta\",\"Aliya\")\n",
        "find_index(tup,elem)"
      ],
      "metadata": {
        "id": "YEgBe0zLw3bt",
        "outputId": "ede569a7-93dc-4b78-bb0b-ebdb38a09525",
        "colab": {
          "base_uri": "https://localhost:8080/"
        }
      },
      "execution_count": 9,
      "outputs": [
        {
          "output_type": "stream",
          "name": "stdout",
          "text": [
            "Введите элемент: Aliya\n",
            "индекс заданного элемента: 1\n"
          ]
        }
      ]
    },
    {
      "cell_type": "markdown",
      "source": [
        "3. Количество вхождений элемента: Напишите функцию, которая подсчитывает, сколько раз заданный элемент встречается в кортеже."
      ],
      "metadata": {
        "id": "T7zfOhQFySP2"
      }
    },
    {
      "cell_type": "code",
      "source": [
        "def kolvo_in_tuple(tup,elem):\n",
        "  kolvo=0\n",
        "  for i in range (0,len(tup)):\n",
        "    if tup[i]==elem:\n",
        "      kolvo+=1\n",
        "  print(f\"количество заданного элемента: {kolvo}\")\n",
        "\n",
        "elem=input(\"Введите элемент: \")\n",
        "tup=(\"Artem\",\"Aliya\",\"Katya\",\"Alsu\",\"Sveta\",\"Aliya\")\n",
        "kolvo_in_tuple(tup,elem)"
      ],
      "metadata": {
        "id": "SzGdxSfjyT4j",
        "outputId": "2ce99144-22d9-4630-e611-b30818e80b8a",
        "colab": {
          "base_uri": "https://localhost:8080/"
        }
      },
      "execution_count": 10,
      "outputs": [
        {
          "output_type": "stream",
          "name": "stdout",
          "text": [
            "Введите элемент: Aliya\n",
            "количество заданного элемента: 2\n"
          ]
        }
      ]
    },
    {
      "cell_type": "markdown",
      "source": [
        "4. Разбиение кортежа: Напишите функцию, которая разбивает кортеж на две части: первую половину и вторую половину."
      ],
      "metadata": {
        "id": "27iQbim2y7QJ"
      }
    },
    {
      "cell_type": "code",
      "source": [
        "def split_tuple(tup):\n",
        "  mid_index = len(tup) // 2\n",
        "  first_half = tup[:mid_index]\n",
        "  second_half = tup[mid_index:]\n",
        "  return first_half, second_half\n",
        "\n",
        "tup=(\"Artem\",\"Aliya\",\"Katya\",\"Alsu\",\"Sveta\",\"Aliya\")\n",
        "first_part, second_part = split_tuple(tup)\n",
        "print(\"Первая половина:\", first_part)\n",
        "print(\"Вторая половина:\", second_part)\n"
      ],
      "metadata": {
        "id": "NL37TvdR0doi",
        "outputId": "d1b9cd90-77a6-4698-d333-bed26a1d2b41",
        "colab": {
          "base_uri": "https://localhost:8080/"
        }
      },
      "execution_count": 11,
      "outputs": [
        {
          "output_type": "stream",
          "name": "stdout",
          "text": [
            "Первая половина: ('Artem', 'Aliya', 'Katya')\n",
            "Вторая половина: ('Alsu', 'Sveta', 'Aliya')\n"
          ]
        }
      ]
    },
    {
      "cell_type": "markdown",
      "source": [
        "5. Обратный порядок: Напишите функцию, которая возвращает кортеж с элементами в обратном порядке.\n",
        "\n"
      ],
      "metadata": {
        "id": "yQuz-P061C4P"
      }
    },
    {
      "cell_type": "code",
      "source": [
        "def reverse(tup):\n",
        "  new_tup=[]\n",
        "  for item in range(len(tup)-1,-1,-1):\n",
        "    new_tup.append(tup[item])\n",
        "  return tuple(new_tup)\n",
        "\n",
        "tup=(\"Artem\",\"Aliya\",\"Katya\",\"Alsu\",\"Sveta\")\n",
        "print(f\"исходный кортеж: {tup}\")\n",
        "new_tup=reverse(tup)\n",
        "print(f\"обратный кортеж: {new_tup}\")"
      ],
      "metadata": {
        "id": "Qhz5TUOV1FmJ",
        "outputId": "0ff25ce3-5f49-426f-855a-5cf8bb68f1e3",
        "colab": {
          "base_uri": "https://localhost:8080/"
        }
      },
      "execution_count": 15,
      "outputs": [
        {
          "output_type": "stream",
          "name": "stdout",
          "text": [
            "исходный кортеж: ('Artem', 'Aliya', 'Katya', 'Alsu', 'Sveta')\n",
            "обратный кортеж: ('Sveta', 'Alsu', 'Katya', 'Aliya', 'Artem')\n"
          ]
        }
      ]
    },
    {
      "cell_type": "markdown",
      "source": [
        "6. Срез кортежа: Напишите функцию, которая возвращает срез кортежа от заданного начального индекса до конечного."
      ],
      "metadata": {
        "id": "KUDgpKQO2EpB"
      }
    },
    {
      "cell_type": "code",
      "source": [
        "def slice_tuple(tup, start, end):\n",
        "    return tup[start:end]\n",
        "\n",
        "tup=(\"Artem\",\"Aliya\",\"Katya\",\"Alsu\",\"Sveta\")\n",
        "start = int(input(\"введите начальный индекс \"))\n",
        "end = int(input(\"введите конечный индекс \"))\n",
        "\n",
        "sliced_tup = slice_tuple(tup, start, end)\n",
        "print(f\"Исходный кортеж: {tup}\")\n",
        "print(f\"Срез кортежа от индекса {start} до {end}: {sliced_tup}\")\n"
      ],
      "metadata": {
        "id": "yYFSjaeP3CMT",
        "outputId": "9a5fddaa-c9c7-4bd5-cf21-7014061b12ac",
        "colab": {
          "base_uri": "https://localhost:8080/"
        }
      },
      "execution_count": 18,
      "outputs": [
        {
          "output_type": "stream",
          "name": "stdout",
          "text": [
            "введите начальный индекс 1\n",
            "введите конечный индекс 4\n",
            "Исходный кортеж: ('Artem', 'Aliya', 'Katya', 'Alsu', 'Sveta')\n",
            "Срез кортежа от индекса 1 до 4: ('Aliya', 'Katya', 'Alsu')\n"
          ]
        }
      ]
    },
    {
      "cell_type": "markdown",
      "source": [
        "7. Сумма элементов: Напишите функцию, которая вычисляет сумму всех числовых элементов в кортеже.\n",
        "\n"
      ],
      "metadata": {
        "id": "Ja1dQrDu3wat"
      }
    },
    {
      "cell_type": "code",
      "source": [
        "def sum_int(tup):\n",
        "  sum = 0\n",
        "  for item in tup:\n",
        "      if isinstance(item, (int, float)):\n",
        "          sum += item\n",
        "  return sum\n",
        "\n",
        "tup=(\"Artem\",1,\"Aliya\",\"Katya\",\"Alsu\",\"Sveta\",100,34,3.5)\n",
        "\n",
        "sum = sum_int(tup)\n",
        "print(f\"Сумма числовых элементов в кортеже: {sum}\")\n"
      ],
      "metadata": {
        "id": "6kJvAmME31Iq",
        "outputId": "4d233e12-e5a7-4b2c-859b-02786d676d0a",
        "colab": {
          "base_uri": "https://localhost:8080/"
        }
      },
      "execution_count": 23,
      "outputs": [
        {
          "output_type": "stream",
          "name": "stdout",
          "text": [
            "Сумма числовых элементов в кортеже: 138.5\n"
          ]
        }
      ]
    },
    {
      "cell_type": "markdown",
      "source": [
        "8. Произведение элементов: Напишите функцию, которая вычисляет произведение всех числовых элементов в кортеже."
      ],
      "metadata": {
        "id": "FhmnnvDS55Nq"
      }
    },
    {
      "cell_type": "code",
      "source": [
        "def proiz_int(tup):\n",
        "  proiz = 1\n",
        "  for item in tup:\n",
        "      if isinstance(item, (int, float)):\n",
        "          proiz *= item\n",
        "  return proiz\n",
        "\n",
        "tup=(\"Artem\",-1,\"Aliya\",\"Katya\",\"Alsu\",\"Sveta\",100,34,3.5)\n",
        "\n",
        "proiz = proiz_int(tup)\n",
        "print(f\"Произведение числовых элементов в кортеже: {proiz}\")"
      ],
      "metadata": {
        "id": "02yaNYa157KG",
        "outputId": "414a3d4b-5bf3-4e86-f95d-fc7a457b3ca2",
        "colab": {
          "base_uri": "https://localhost:8080/"
        }
      },
      "execution_count": 26,
      "outputs": [
        {
          "output_type": "stream",
          "name": "stdout",
          "text": [
            "Произведение числовых элементов в кортеже: -11900.0\n"
          ]
        }
      ]
    },
    {
      "cell_type": "markdown",
      "source": [
        "9. Фильтрация по условию: Напишите функцию, которая фильтрует кортеж, оставляя только те элементы, которые удовлетворяют заданному условию (например, больше 10)."
      ],
      "metadata": {
        "id": "Acq26vuM6Zw-"
      }
    },
    {
      "cell_type": "code",
      "source": [
        "def filtr(tup):\n",
        "  new=[]\n",
        "  for item in tup:\n",
        "    if item%2==0:\n",
        "      new.append(item)\n",
        "  new=tuple(new)\n",
        "  print(f\"новый кортеж {new}\")\n",
        "\n",
        "tup=(1,2,3,4,5,6,7,8,9,10)\n",
        "print(f\"исходный кортеж {tup}\")\n",
        "filtr(tup)"
      ],
      "metadata": {
        "id": "w6mLRsad6meX",
        "outputId": "0535114e-6b90-4dc1-85d2-411578d865e6",
        "colab": {
          "base_uri": "https://localhost:8080/"
        }
      },
      "execution_count": 29,
      "outputs": [
        {
          "output_type": "stream",
          "name": "stdout",
          "text": [
            "исходный кортеж (1, 2, 3, 4, 5, 6, 7, 8, 9, 10)\n",
            "новый кортеж (2, 4, 6, 8, 10)\n"
          ]
        }
      ]
    },
    {
      "cell_type": "markdown",
      "source": [
        "10. Кортеж с четными числами: Напишите функцию, которая создает кортеж, содержащий только четные числа из заданного диапазона."
      ],
      "metadata": {
        "id": "kvFdXp_i7gyC"
      }
    },
    {
      "cell_type": "code",
      "source": [
        "def create(start, end):\n",
        "  even_numbers = []\n",
        "  for num in range(start, end + 1):\n",
        "    if num % 2 == 0:\n",
        "      even_numbers.append(num)\n",
        "  return tuple(even_numbers)\n",
        "\n",
        "start = int(input(\"введите начальный индекс \"))\n",
        "end = int(input(\"введите конечный индекс \"))\n",
        "tup = create(start, end)\n",
        "print(f\"Четные числа в диапазоне от {start} до {end}: {tup}\")"
      ],
      "metadata": {
        "id": "cCyMCdkw7wQi",
        "outputId": "46a55d33-a425-4fc4-97b8-09eed92f0414",
        "colab": {
          "base_uri": "https://localhost:8080/"
        }
      },
      "execution_count": 35,
      "outputs": [
        {
          "output_type": "stream",
          "name": "stdout",
          "text": [
            "введите начальный индекс 2\n",
            "введите конечный индекс 16\n",
            "Четные числа в диапазоне от 2 до 16: (2, 4, 6, 8, 10, 12, 14, 16)\n"
          ]
        }
      ]
    }
  ]
}