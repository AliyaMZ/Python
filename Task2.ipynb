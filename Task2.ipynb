{
  "nbformat": 4,
  "nbformat_minor": 0,
  "metadata": {
    "colab": {
      "provenance": [],
      "authorship_tag": "ABX9TyPxDY+GhX7RV+uCWUFvA1sG",
      "include_colab_link": true
    },
    "kernelspec": {
      "name": "python3",
      "display_name": "Python 3"
    },
    "language_info": {
      "name": "python"
    }
  },
  "cells": [
    {
      "cell_type": "markdown",
      "metadata": {
        "id": "view-in-github",
        "colab_type": "text"
      },
      "source": [
        "<a href=\"https://colab.research.google.com/github/AliyaMZ/Python/blob/main/Task2.ipynb\" target=\"_parent\"><img src=\"https://colab.research.google.com/assets/colab-badge.svg\" alt=\"Open In Colab\"/></a>"
      ]
    },
    {
      "cell_type": "markdown",
      "source": [
        "Вариант 8\n",
        "\n",
        "Гиззатуллина Алия\n",
        "\n",
        "Задача 8: Создайте базовый класс Vehicle с полями марка и модель. Реализуйте подклассы Car и Bicycle, которые добавляют свои специфические методы, например, метод honk() для автомобиля."
      ],
      "metadata": {
        "id": "xb52CctBz2kc"
      }
    },
    {
      "cell_type": "code",
      "source": [
        "class Vehicle:\n",
        "\n",
        "  def __init__(self,mark,model):\n",
        "    self.__mark = mark\n",
        "    self.__model = model\n",
        "\n",
        "  @property\n",
        "  def mark(self):\n",
        "    return self.__mark\n",
        "\n",
        "  @property\n",
        "  def model(self):\n",
        "    return self.__model\n",
        "\n",
        "  def display_info(self):\n",
        "    print(f\"Model: {self.__model}\\tmark: {self.__mark}\")\n",
        "\n",
        "class Car(Vehicle):\n",
        "\n",
        "  def honk(self):\n",
        "    print(f\"{self.model} honks\")\n",
        "\n",
        "class Bicycle(Vehicle):\n",
        "\n",
        "  def rides(self):\n",
        "    print(f\"{self.model} rides\")\n",
        "\n",
        "Toyota=Car(\"Camry\", \"Toyota\")\n",
        "Toyota.honk()\n",
        "Toyota.display_info()\n",
        "Felt=Bicycle(\"4\",\"Felt\")\n",
        "Felt.rides()\n",
        "Felt.display_info()"
      ],
      "metadata": {
        "colab": {
          "base_uri": "https://localhost:8080/"
        },
        "id": "2AKru8piz-DB",
        "outputId": "7dd83350-9f61-4bed-d7a3-259c99c429a4"
      },
      "execution_count": 19,
      "outputs": [
        {
          "output_type": "stream",
          "name": "stdout",
          "text": [
            "Toyota honks\n",
            "Model: Toyota\tmark: Camry\n",
            "Felt rides\n",
            "Model: Felt\tmark: 4\n"
          ]
        }
      ]
    },
    {
      "cell_type": "markdown",
      "source": [
        "Задача 8. Определите класс Car, который наследуется от класса Vehicle. Класс Car должен добавлять методы для работы с автомобильными функциями."
      ],
      "metadata": {
        "id": "T_k684hF4HRp"
      }
    },
    {
      "cell_type": "code",
      "source": [
        "class Vehicle:\n",
        "\n",
        "  def __init__(self,mark,model):\n",
        "    self.__mark = mark\n",
        "    self.__model = model\n",
        "\n",
        "  @property\n",
        "  def mark(self):\n",
        "    return self.__mark\n",
        "\n",
        "  @property\n",
        "  def model(self):\n",
        "    return self.__model\n",
        "\n",
        "  def display_info(self):\n",
        "    print(f\"Model: {self.__model}\\tmark: {self.__mark}\")\n",
        "\n",
        "class Car(Vehicle):\n",
        "\n",
        "  def __init__(self,mark,model,speed):\n",
        "    super().__init__(mark,model)\n",
        "    self.speed = speed\n",
        "\n",
        "  def honk(self):\n",
        "    print(f\"{self.model} honks\")\n",
        "\n",
        "  def display_car_info(self):\n",
        "    self.display_info()\n",
        "    print(f\"{self.model}'s speed: {self.speed}\")\n",
        "\n",
        "\n",
        "Toyota=Car(\"Camry\", \"Toyota\",65)\n",
        "Toyota.honk()\n",
        "Toyota.display_car_info()"
      ],
      "metadata": {
        "colab": {
          "base_uri": "https://localhost:8080/"
        },
        "id": "Jgbk48BH4Ji1",
        "outputId": "4a402dea-fee4-4144-8d5c-8513b3369352"
      },
      "execution_count": 6,
      "outputs": [
        {
          "output_type": "stream",
          "name": "stdout",
          "text": [
            "Toyota honks\n",
            "Model: Toyota\tmark: Camry\n",
            "Toyota's speed: 65\n"
          ]
        }
      ]
    },
    {
      "cell_type": "markdown",
      "source": [
        "Задача 8. Создать класс Car, у которого поля brand, model и year будут приватными. Реализовать методы для доступа к этим полям и изменения модели с проверкой на валидность введенных данных."
      ],
      "metadata": {
        "id": "M6fF7qB0713i"
      }
    },
    {
      "cell_type": "code",
      "source": [
        "class Car:\n",
        "  def __init__(self,brand):\n",
        "    self.__brand = brand\n",
        "    self.__model = \"Camry\"\n",
        "    self.__year = 2025\n",
        "\n",
        "  def set_model(self,model):\n",
        "    if model==\"Camry\" or model==\"Aqua\" or model==\"Corolla\":\n",
        "      self.__model=model\n",
        "    else:\n",
        "      print(\"Недопустимая модель\")\n",
        "\n",
        "  def get_brand(self):\n",
        "    return self.__brand\n",
        "\n",
        "  def get_model(self):\n",
        "    return self.__model\n",
        "\n",
        "  def get_year(self):\n",
        "    return self.__year\n",
        "\n",
        "  def display_info(self):\n",
        "    print(f\"Brand: {self.__brand}\\tmodel: {self.__model}\\tyear: {self.__year}\" )\n",
        "\n",
        "toyota=Car(\"toyota\")\n",
        "toyota.display_info()\n",
        "toyota.set_model(\"Yaris\")\n",
        "toyota.set_model(\"Aqua\")\n",
        "toyota.display_info()"
      ],
      "metadata": {
        "colab": {
          "base_uri": "https://localhost:8080/"
        },
        "id": "k7UPMQCK8EbQ",
        "outputId": "1e99bb56-af2c-4c5b-bef4-7768f0c23f2f"
      },
      "execution_count": 17,
      "outputs": [
        {
          "output_type": "stream",
          "name": "stdout",
          "text": [
            "Brand: toyota\tmodel: Camry\tyear: 2025\n",
            "Недопустимая модель\n",
            "Brand: toyota\tmodel: Aqua\tyear: 2025\n"
          ]
        }
      ]
    },
    {
      "cell_type": "markdown",
      "source": [
        "Задача 8. Здание и этаж.  Создайте класс `Здание`, в котором может быть несколько этажей. Реализуйте метод для добавления нового этажа с указанием его номера. Класс `Этаж` должен содержать поле `номер этажа` и метод для описания этажа. Этаж не может существовать отдельно от здания."
      ],
      "metadata": {
        "id": "CI0isiC2AR0d"
      }
    }
  ]
}