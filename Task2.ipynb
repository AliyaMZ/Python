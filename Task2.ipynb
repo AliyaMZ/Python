{
  "nbformat": 4,
  "nbformat_minor": 0,
  "metadata": {
    "colab": {
      "provenance": [],
      "authorship_tag": "ABX9TyMzMR1iCSQeO8144JRKkSg7",
      "include_colab_link": true
    },
    "kernelspec": {
      "name": "python3",
      "display_name": "Python 3"
    },
    "language_info": {
      "name": "python"
    }
  },
  "cells": [
    {
      "cell_type": "markdown",
      "metadata": {
        "id": "view-in-github",
        "colab_type": "text"
      },
      "source": [
        "<a href=\"https://colab.research.google.com/github/AliyaMZ/Python/blob/main/Task2.ipynb\" target=\"_parent\"><img src=\"https://colab.research.google.com/assets/colab-badge.svg\" alt=\"Open In Colab\"/></a>"
      ]
    },
    {
      "cell_type": "markdown",
      "source": [
        "Вариант 8\n",
        "\n",
        "Гиззатуллина Алия\n",
        "\n",
        "Задача 8: Создайте базовый класс Vehicle с полями марка и модель. Реализуйте подклассы Car и Bicycle, которые добавляют свои специфические методы, например, метод honk() для автомобиля."
      ],
      "metadata": {
        "id": "xb52CctBz2kc"
      }
    },
    {
      "cell_type": "code",
      "source": [
        "class Vehicle:\n",
        "\n",
        "  def __init__(self,mark,model):\n",
        "    self.__mark = mark\n",
        "    self.__model = model\n",
        "\n",
        "  @property\n",
        "  def mark(self):\n",
        "    return self.__mark\n",
        "\n",
        "  @property\n",
        "  def model(self):\n",
        "    return self.__model\n",
        "\n",
        "  def display_info(self):\n",
        "    print(f\"Model: {self.__model}\\tmark: {self.__mark}\")\n",
        "\n",
        "class Car(Vehicle):\n",
        "\n",
        "  def honk(self):\n",
        "    print(f\"{self.model} honks\")\n",
        "\n",
        "class Bicycle(Vehicle):\n",
        "\n",
        "  def rides(self):\n",
        "    print(f\"{self.model} rides\")\n",
        "\n",
        "Toyota=Car(\"Camry\", \"Toyota\")\n",
        "Toyota.honk()\n",
        "Toyota.display_info()\n",
        "Felt=Bicycle(\"4\",\"Felt\")\n",
        "Felt.rides()\n",
        "Felt.display_info()"
      ],
      "metadata": {
        "colab": {
          "base_uri": "https://localhost:8080/"
        },
        "id": "2AKru8piz-DB",
        "outputId": "7dd83350-9f61-4bed-d7a3-259c99c429a4"
      },
      "execution_count": null,
      "outputs": [
        {
          "output_type": "stream",
          "name": "stdout",
          "text": [
            "Toyota honks\n",
            "Model: Toyota\tmark: Camry\n",
            "Felt rides\n",
            "Model: Felt\tmark: 4\n"
          ]
        }
      ]
    },
    {
      "cell_type": "markdown",
      "source": [
        "Задача 8. Определите класс Car, который наследуется от класса Vehicle. Класс Car должен добавлять методы для работы с автомобильными функциями."
      ],
      "metadata": {
        "id": "T_k684hF4HRp"
      }
    },
    {
      "cell_type": "code",
      "source": [
        "class Vehicle:\n",
        "\n",
        "  def __init__(self,mark,model):\n",
        "    self.__mark = mark\n",
        "    self.__model = model\n",
        "\n",
        "  @property\n",
        "  def mark(self):\n",
        "    return self.__mark\n",
        "\n",
        "  @property\n",
        "  def model(self):\n",
        "    return self.__model\n",
        "\n",
        "  def display_info(self):\n",
        "    print(f\"Model: {self.__model}\\tmark: {self.__mark}\")\n",
        "\n",
        "class Car(Vehicle):\n",
        "\n",
        "  def __init__(self,mark,model,speed):\n",
        "    super().__init__(mark,model)\n",
        "    self.speed = speed\n",
        "\n",
        "  def honk(self):\n",
        "    print(f\"{self.model} honks\")\n",
        "\n",
        "  def display_car_info(self):\n",
        "    self.display_info()\n",
        "    print(f\"{self.model}'s speed: {self.speed}\")\n",
        "\n",
        "\n",
        "Toyota=Car(\"Camry\", \"Toyota\",65)\n",
        "Toyota.honk()\n",
        "Toyota.display_car_info()"
      ],
      "metadata": {
        "colab": {
          "base_uri": "https://localhost:8080/"
        },
        "id": "Jgbk48BH4Ji1",
        "outputId": "4a402dea-fee4-4144-8d5c-8513b3369352"
      },
      "execution_count": null,
      "outputs": [
        {
          "output_type": "stream",
          "name": "stdout",
          "text": [
            "Toyota honks\n",
            "Model: Toyota\tmark: Camry\n",
            "Toyota's speed: 65\n"
          ]
        }
      ]
    },
    {
      "cell_type": "markdown",
      "source": [
        "Задача 8. Создать класс Car, у которого поля brand, model и year будут приватными. Реализовать методы для доступа к этим полям и изменения модели с проверкой на валидность введенных данных."
      ],
      "metadata": {
        "id": "M6fF7qB0713i"
      }
    },
    {
      "cell_type": "code",
      "source": [
        "class Car:\n",
        "  def __init__(self,brand):\n",
        "    self.__brand = brand\n",
        "    self.__model = \"Camry\"\n",
        "    self.__year = 2025\n",
        "\n",
        "  def set_model(self,model):\n",
        "    if model==\"Camry\" or model==\"Aqua\" or model==\"Corolla\":\n",
        "      self.__model=model\n",
        "    else:\n",
        "      print(\"Недопустимая модель\")\n",
        "\n",
        "  def get_brand(self):\n",
        "    return self.__brand\n",
        "\n",
        "  def get_model(self):\n",
        "    return self.__model\n",
        "\n",
        "  def get_year(self):\n",
        "    return self.__year\n",
        "\n",
        "  def display_info(self):\n",
        "    print(f\"Brand: {self.__brand}\\tmodel: {self.__model}\\tyear: {self.__year}\" )\n",
        "\n",
        "toyota=Car(\"toyota\")\n",
        "toyota.display_info()\n",
        "toyota.set_model(\"Yaris\")\n",
        "toyota.set_model(\"Aqua\")\n",
        "toyota.display_info()"
      ],
      "metadata": {
        "colab": {
          "base_uri": "https://localhost:8080/"
        },
        "id": "k7UPMQCK8EbQ",
        "outputId": "1e99bb56-af2c-4c5b-bef4-7768f0c23f2f"
      },
      "execution_count": null,
      "outputs": [
        {
          "output_type": "stream",
          "name": "stdout",
          "text": [
            "Brand: toyota\tmodel: Camry\tyear: 2025\n",
            "Недопустимая модель\n",
            "Brand: toyota\tmodel: Aqua\tyear: 2025\n"
          ]
        }
      ]
    },
    {
      "cell_type": "markdown",
      "source": [
        "Задача 8. Здание и этаж.  Создайте класс `Здание`, в котором может быть несколько этажей. Реализуйте метод для добавления нового этажа с указанием его номера. Класс `Этаж` должен содержать поле `номер этажа` и метод для описания этажа. Этаж не может существовать отдельно от здания."
      ],
      "metadata": {
        "id": "CI0isiC2AR0d"
      }
    },
    {
      "cell_type": "code",
      "source": [
        "class House:\n",
        "  def __init__(self,street,number):\n",
        "    self.street=street\n",
        "    self.number=number\n",
        "    self.floors=[]\n",
        "\n",
        "  def add_floor(self,floor_number):\n",
        "    new_floor=Floor(floor_number)\n",
        "    self.floors.append(new_floor)\n",
        "\n",
        "  def print_info(self):\n",
        "    print(f\"Дом: {self.street} {self.number}\")\n",
        "    print(\"Список этажей: \")\n",
        "    for number in self.floors:\n",
        "      print(f\"{number.floor_number} этаж\")\n",
        "\n",
        "class Floor:\n",
        "  def __init__(self,floor_number):\n",
        "    self.floor_number=floor_number\n",
        "\n",
        "house=House(\"Кремлевская\", 35)\n",
        "\n",
        "house.add_floor(1)\n",
        "house.add_floor(2)\n",
        "house.add_floor(3)\n",
        "\n",
        "house.print_info()"
      ],
      "metadata": {
        "id": "_0IOKciQ9JUa",
        "outputId": "c6e9e7ba-33ad-4348-aea6-90055bf968a6",
        "colab": {
          "base_uri": "https://localhost:8080/"
        }
      },
      "execution_count": 7,
      "outputs": [
        {
          "output_type": "stream",
          "name": "stdout",
          "text": [
            "Дом: Кремлевская 35\n",
            "Список этажей: \n",
            "1 этаж\n",
            "2 этаж\n",
            "3 этаж\n"
          ]
        }
      ]
    },
    {
      "cell_type": "markdown",
      "source": [
        "Задача 8. Отель и клиент. Создайте класс `Отель`, содержащий список клиентов, которые могут бронировать комнаты. У класса `Клиент` есть поля `имя` и `контактные данные`. Клиенты могут существовать независимо от отеля."
      ],
      "metadata": {
        "id": "YL0CvB1uCDKC"
      }
    },
    {
      "cell_type": "code",
      "source": [
        "class Client:\n",
        "  def __init__(self,name,contact):\n",
        "    self.name=name\n",
        "    self.contact=contact\n",
        "\n",
        "  def get_name(self):\n",
        "    return self.name\n",
        "\n",
        "  def get_contact(self):\n",
        "    return self.contact\n",
        "\n",
        "  def display_info(self):\n",
        "    print(f\"Имя: {self.name}, Контактные данные: {self.contact}\")\n",
        "\n",
        "class Hotel:\n",
        "  def __init__(self):\n",
        "    self.clients=[]\n",
        "\n",
        "  def add_client(self,client):\n",
        "    self.clients.append(client)\n",
        "\n",
        "  def print_clients(self):\n",
        "    print(\"Список клиентов: \")\n",
        "    for client in self.clients:\n",
        "      client.display_info()\n",
        "\n",
        "client1=Client(\"Алия\",\"afff.gmail.com\")\n",
        "client2=Client(\"Света\",\"sdfgg.gmail.com\")\n",
        "client3=Client(\"Алсу\",\"fdhhttth.gmail.com\")\n",
        "\n",
        "hotel=Hotel()\n",
        "hotel.add_client(client1)\n",
        "hotel.add_client(client2)\n",
        "hotel.add_client(client3)\n",
        "hotel.print_clients()"
      ],
      "metadata": {
        "id": "ZTROXb8OCSkC",
        "outputId": "3209557c-4261-4d62-d51e-801e310e0d83",
        "colab": {
          "base_uri": "https://localhost:8080/"
        }
      },
      "execution_count": 10,
      "outputs": [
        {
          "output_type": "stream",
          "name": "stdout",
          "text": [
            "Список клиентов: \n",
            "Имя: Алия, Контактные данные: afff.gmail.com\n",
            "Имя: Света, Контактные данные: sdfgg.gmail.com\n",
            "Имя: Алсу, Контактные данные: fdhhttth.gmail.com\n"
          ]
        }
      ]
    },
    {
      "cell_type": "markdown",
      "source": [
        "Задача 8. Создать абстрактный класс Plan с абстрактным методом calculateCost(). Реализовать подклассы BasicPlan и PremiumPlan, которые реализуют метод calculateCost()."
      ],
      "metadata": {
        "id": "pCYBXWkxEkza"
      }
    },
    {
      "cell_type": "code",
      "source": [
        "import abc\n",
        "\n",
        "class Plan(abc.ABC):\n",
        "  @abc.abstractmethod\n",
        "  def calculateCost(): pass\n",
        "\n",
        "class BasicPlan(Plan):\n",
        "  def __init__(self,basic_cost):\n",
        "    self.basic_cost=basic_cost\n",
        "\n",
        "  def calculateCost(self):\n",
        "    sum=0\n",
        "    for i in self.basic_cost:\n",
        "      sum+=i\n",
        "    print(f\"сумма в базовом плане: {sum}\")\n",
        "\n",
        "class PremiumPlan(Plan):\n",
        "  def __init__(self,premium_cost):\n",
        "    self.premium_cost=premium_cost\n",
        "\n",
        "  def calculateCost(self):\n",
        "    sum=0\n",
        "    for i in self.premium_cost:\n",
        "      sum+=i\n",
        "    print(f\"сумма в премиум плане: {sum}\")\n",
        "\n",
        "basic=BasicPlan([1,2,3,4,5])\n",
        "premium=PremiumPlan([10,20,30,40,50])\n",
        "basic.calculateCost()\n",
        "premium.calculateCost()"
      ],
      "metadata": {
        "id": "2ugtaeDDErjB",
        "outputId": "5ce3a06a-7e87-46a2-8b8e-e33cf06b366b",
        "colab": {
          "base_uri": "https://localhost:8080/"
        }
      },
      "execution_count": 13,
      "outputs": [
        {
          "output_type": "stream",
          "name": "stdout",
          "text": [
            "сумма в базовом плане: 15\n",
            "сумма в премиум плане: 150\n"
          ]
        }
      ]
    },
    {
      "cell_type": "markdown",
      "source": [
        "Задача 8. Создать интерфейс IVehicle, который содержит методы start() и stop(). Создать абстрактный класс Vehicle, и конкретные реализации Car и Bicycle, которые реализуют интерфейс IVehicle."
      ],
      "metadata": {
        "id": "J9UKoESnHd6S"
      }
    },
    {
      "cell_type": "code",
      "source": [
        "import abc\n",
        "\n",
        "class IVehicle(abc.ABC):\n",
        "  @abc.abstractmethod\n",
        "  def start(): pass\n",
        "\n",
        "  @abc.abstractmethod\n",
        "  def stop():pass\n",
        "\n",
        "class Car(IVehicle):\n",
        "  def __init__(self,brand):\n",
        "    self.brand=brand\n",
        "\n",
        "  def start(self):\n",
        "    print(f\"{self.brand} starts\")\n",
        "\n",
        "  def stop(self):\n",
        "    print(f\"{self.brand} stops\")\n",
        "\n",
        "class Bicycle(IVehicle):\n",
        "  def __init__(self,mark):\n",
        "    self.mark=mark\n",
        "\n",
        "  def start(self):\n",
        "    print(f\"{self.mark} starts\")\n",
        "\n",
        "  def stop(self):\n",
        "    print(f\"{self.mark} stops\")\n",
        "\n",
        "car=Car(\"toyota\")\n",
        "car.start()\n",
        "car.stop()\n",
        "bicycle=Bicycle(\"flet\")\n",
        "bicycle.start()\n",
        "bicycle.stop()"
      ],
      "metadata": {
        "id": "8EUZuv6SHt4f",
        "outputId": "2068721a-e48a-4316-cfb3-d3cd06669645",
        "colab": {
          "base_uri": "https://localhost:8080/"
        }
      },
      "execution_count": 15,
      "outputs": [
        {
          "output_type": "stream",
          "name": "stdout",
          "text": [
            "toyota starts\n",
            "toyota stops\n",
            "flet starts\n",
            "flet stops\n"
          ]
        }
      ]
    },
    {
      "cell_type": "markdown",
      "source": [
        "Задача 8. Определите метод drive() в классе Car, который управляет движением автомобиля. Создайте подклассы ElectricCar и GasolineCar, которые будут переопределять этот метод для управления различными типами автомобилей."
      ],
      "metadata": {
        "id": "HDT1fHvCJq5F"
      }
    },
    {
      "cell_type": "code",
      "source": [
        "class Car:\n",
        "  def __init__(self,brand):\n",
        "    self.brand=brand\n",
        "\n",
        "  def drive(self):\n",
        "    print(f\"{self.brand} is driving\")\n",
        "\n",
        "class ElectricCar(Car):\n",
        "  def drive(self):\n",
        "    print(f\"{self.brand} - electric car is driving\")\n",
        "\n",
        "class GasolineCar(Car):\n",
        "  def drive(self):\n",
        "    print(f\"{self.brand} - gasoline car is driving\")\n",
        "\n",
        "car1=ElectricCar(\"tecla\")\n",
        "car2=GasolineCar(\"toyota\")\n",
        "\n",
        "car1.drive()\n",
        "car2.drive()"
      ],
      "metadata": {
        "id": "HPFdYmtrJ5cJ",
        "outputId": "a8846f8c-7562-42a8-b8f2-d10d1746d83c",
        "colab": {
          "base_uri": "https://localhost:8080/"
        }
      },
      "execution_count": 16,
      "outputs": [
        {
          "output_type": "stream",
          "name": "stdout",
          "text": [
            "tecla - electric car is driving\n",
            "toyota - gasoline car is driving\n"
          ]
        }
      ]
    }
  ]
}