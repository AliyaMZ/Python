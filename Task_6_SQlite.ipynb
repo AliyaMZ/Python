{
  "nbformat": 4,
  "nbformat_minor": 0,
  "metadata": {
    "colab": {
      "provenance": [],
      "authorship_tag": "ABX9TyPi+JjYTMgnjbojhkbsdcie",
      "include_colab_link": true
    },
    "kernelspec": {
      "name": "python3",
      "display_name": "Python 3"
    },
    "language_info": {
      "name": "python"
    }
  },
  "cells": [
    {
      "cell_type": "markdown",
      "metadata": {
        "id": "view-in-github",
        "colab_type": "text"
      },
      "source": [
        "<a href=\"https://colab.research.google.com/github/AliyaMZ/Python/blob/main/Task_6_SQlite.ipynb\" target=\"_parent\"><img src=\"https://colab.research.google.com/assets/colab-badge.svg\" alt=\"Open In Colab\"/></a>"
      ]
    },
    {
      "cell_type": "markdown",
      "source": [
        "1. Создание базы данных и таблиц\n",
        "Создайте базу данных library.db и таблицу books с полями:\n",
        "\n",
        "id (PRIMARY KEY, AUTOINCREMENT),\n",
        "title (TEXT, NOT NULL),\n",
        "author (TEXT, NOT NULL),\n",
        "year_published (INTEGER),\n",
        "genre (TEXT)."
      ],
      "metadata": {
        "id": "UoyUslZgun1x"
      }
    },
    {
      "cell_type": "code",
      "source": [
        "import sqlite3\n",
        "\n",
        "connection=sqlite3.connect(\"library.db\")\n",
        "cursor=connection.cursor()\n",
        "create_table_query='''\n",
        "CREATE TABLE IF NOT EXISTS books (\n",
        "    id INTEGER PRIMARY KEY AUTOINCREMENT,\n",
        "    title TEXT NOT NULL,\n",
        "    author TEXT NOT NULL,\n",
        "    year_published INTEGER,\n",
        "    genre TEXT\n",
        ");\n",
        "'''\n",
        "cursor.execute(create_table_query)\n",
        "connection.commit()\n",
        "connection.close()"
      ],
      "metadata": {
        "id": "Gdkvc7oXuoJ4"
      },
      "execution_count": 1,
      "outputs": []
    },
    {
      "cell_type": "markdown",
      "source": [
        "2. Вставка данных\n",
        "Добавьте в таблицу books следующие записи:\n",
        "\n",
        "\"The Great Gatsby\", автор: F. Scott Fitzgerald, год: 1925, жанр: Fiction.\n",
        "\"1984\", автор: George Orwell, год: 1949, жанр: Dystopian.\n",
        "\"To Kill a Mockingbird\", автор: Harper Lee, год: 1960, жанр: Classic."
      ],
      "metadata": {
        "id": "d_3Wg7_BuoXd"
      }
    },
    {
      "cell_type": "code",
      "source": [
        "import sqlite3\n",
        "\n",
        "connection = sqlite3.connect('library.db')\n",
        "cursor = connection.cursor()\n",
        "\n",
        "books_data = [\n",
        "  (\"The Great Gatsby\", \"F. Scott Fitzgerald\", 1925, \"Fiction\"),\n",
        "  (\"1984\", \"George Orwell\", 1949, \"Dystopian\"),\n",
        "  (\"To Kill a Mockingbird\", \"Harper Lee\", 1960, \"Classic\")\n",
        "]\n",
        "\n",
        "insert_query = '''\n",
        "INSERT INTO books (title, author, year_published, genre)\n",
        "VALUES (?, ?, ?, ?)\n",
        "'''\n",
        "\n",
        "cursor.executemany(insert_query, books_data)\n",
        "connection.commit()\n",
        "connection.close()\n",
        "\n",
        "print(\"Данные успешно добавлены в таблицу books.\")"
      ],
      "metadata": {
        "colab": {
          "base_uri": "https://localhost:8080/"
        },
        "id": "E--19mR-u0VG",
        "outputId": "2f3f9bb5-ad17-4fac-d5c1-0c2db6d0982b"
      },
      "execution_count": 2,
      "outputs": [
        {
          "output_type": "stream",
          "name": "stdout",
          "text": [
            "Данные успешно добавлены в таблицу books.\n"
          ]
        }
      ]
    },
    {
      "cell_type": "markdown",
      "source": [
        "3. Выборка всех данных\n",
        "Напишите запрос, который выбирает все книги из таблицы books."
      ],
      "metadata": {
        "id": "iU19jZ00u43I"
      }
    },
    {
      "cell_type": "code",
      "source": [
        "import sqlite3\n",
        "\n",
        "connection = sqlite3.connect('library.db')\n",
        "cursor = connection.cursor()\n",
        "\n",
        "select_query = '''\n",
        "SELECT * FROM books;\n",
        "'''\n",
        "cursor.execute(select_query)\n",
        "\n",
        "rows = cursor.fetchall()\n",
        "for row in rows:\n",
        "    print(row)\n",
        "\n",
        "connection.close()"
      ],
      "metadata": {
        "colab": {
          "base_uri": "https://localhost:8080/"
        },
        "id": "nZ-R2Nbmu8p-",
        "outputId": "43caca67-6188-4ef5-8669-3f66876370e0"
      },
      "execution_count": 3,
      "outputs": [
        {
          "output_type": "stream",
          "name": "stdout",
          "text": [
            "(1, 'The Great Gatsby', 'F. Scott Fitzgerald', 1925, 'Fiction')\n",
            "(2, '1984', 'George Orwell', 1949, 'Dystopian')\n",
            "(3, 'To Kill a Mockingbird', 'Harper Lee', 1960, 'Classic')\n"
          ]
        }
      ]
    },
    {
      "cell_type": "markdown",
      "source": [
        "4. Фильтрация данных\n",
        "Выберите все книги, опубликованные после 1950 года."
      ],
      "metadata": {
        "id": "t-Tz4D02u-8d"
      }
    },
    {
      "cell_type": "code",
      "source": [
        "import sqlite3\n",
        "\n",
        "connection = sqlite3.connect('library.db')\n",
        "cursor = connection.cursor()\n",
        "\n",
        "select_query = '''\n",
        "SELECT * FROM books WHERE year_published > ?;\n",
        "'''\n",
        "year_limit = 1950\n",
        "\n",
        "cursor.execute(select_query, (year_limit,))\n",
        "\n",
        "rows = cursor.fetchall()\n",
        "\n",
        "for row in rows:\n",
        "    print(row)\n",
        "\n",
        "connection.close()"
      ],
      "metadata": {
        "colab": {
          "base_uri": "https://localhost:8080/"
        },
        "id": "uDC8b5bovB0W",
        "outputId": "b0da28c2-5dc8-4375-aef8-444005ddcc72"
      },
      "execution_count": 4,
      "outputs": [
        {
          "output_type": "stream",
          "name": "stdout",
          "text": [
            "(3, 'To Kill a Mockingbird', 'Harper Lee', 1960, 'Classic')\n"
          ]
        }
      ]
    },
    {
      "cell_type": "markdown",
      "source": [
        "5. Использование оператора LIKE\n",
        "Найдите все книги, название которых начинается с буквы \"T\"."
      ],
      "metadata": {
        "id": "z9JY5e6ZvFMa"
      }
    },
    {
      "cell_type": "code",
      "source": [
        "import sqlite3\n",
        "\n",
        "connection = sqlite3.connect('library.db')\n",
        "cursor = connection.cursor()\n",
        "\n",
        "select_query = '''\n",
        "SELECT * FROM books WHERE title LIKE ?;\n",
        "'''\n",
        "search_pattern = 'T%'\n",
        "\n",
        "cursor.execute(select_query, (search_pattern,))\n",
        "\n",
        "rows = cursor.fetchall()\n",
        "\n",
        "for row in rows:\n",
        "    print(row)\n",
        "\n",
        "connection.close()"
      ],
      "metadata": {
        "colab": {
          "base_uri": "https://localhost:8080/"
        },
        "id": "AxvJwLO5vIdm",
        "outputId": "9878acac-572c-4715-dd46-e6f89ac28585"
      },
      "execution_count": 5,
      "outputs": [
        {
          "output_type": "stream",
          "name": "stdout",
          "text": [
            "(1, 'The Great Gatsby', 'F. Scott Fitzgerald', 1925, 'Fiction')\n",
            "(3, 'To Kill a Mockingbird', 'Harper Lee', 1960, 'Classic')\n"
          ]
        }
      ]
    },
    {
      "cell_type": "markdown",
      "source": [
        "6. Сортировка данных\n",
        "Отсортируйте книги по году публикации в порядке возрастания."
      ],
      "metadata": {
        "id": "ZgGxMi1ovLfz"
      }
    },
    {
      "cell_type": "code",
      "source": [
        "import sqlite3\n",
        "\n",
        "conn = sqlite3.connect('library.db')\n",
        "cursor = conn.cursor()\n",
        "\n",
        "query = '''\n",
        "SELECT * FROM books\n",
        "ORDER BY year_published ASC\n",
        "'''\n",
        "cursor.execute(query)\n",
        "\n",
        "sorted_books = cursor.fetchall()\n",
        "\n",
        "print(\"Книги, отсортированные по году публикации (по возрастанию):\")\n",
        "for book in sorted_books:\n",
        "    print(book)\n",
        "\n",
        "conn.close()"
      ],
      "metadata": {
        "colab": {
          "base_uri": "https://localhost:8080/"
        },
        "id": "noDfoysTvOKS",
        "outputId": "7ace85b6-1cb7-43e7-fbcb-920a00f86714"
      },
      "execution_count": 8,
      "outputs": [
        {
          "output_type": "stream",
          "name": "stdout",
          "text": [
            "Книги, отсортированные по году публикации (по возрастанию):\n",
            "(1, 'The Great Gatsby', 'F. Scott Fitzgerald', 1925, 'Fiction')\n",
            "(2, '1984', 'George Orwell', 1949, 'Dystopian')\n",
            "(3, 'To Kill a Mockingbird', 'Harper Lee', 1960, 'Classic')\n"
          ]
        }
      ]
    },
    {
      "cell_type": "markdown",
      "source": [
        "7. Ограничение количества строк\n",
        "Выберите первые две книги из таблицы books, отсортированные по названию."
      ],
      "metadata": {
        "id": "NXO5ZC4evokv"
      }
    },
    {
      "cell_type": "code",
      "source": [
        "import sqlite3\n",
        "\n",
        "conn = sqlite3.connect('library.db')\n",
        "cursor = conn.cursor()\n",
        "\n",
        "query = '''\n",
        "SELECT * FROM books\n",
        "ORDER BY title ASC\n",
        "LIMIT 2\n",
        "'''\n",
        "cursor.execute(query)\n",
        "\n",
        "first_two_books = cursor.fetchall()\n",
        "\n",
        "print(\"Первые две книги, отсортированные по названию:\")\n",
        "for book in first_two_books:\n",
        "    print(book)\n",
        "\n",
        "conn.close()"
      ],
      "metadata": {
        "colab": {
          "base_uri": "https://localhost:8080/"
        },
        "id": "-pfXIoM3vzbC",
        "outputId": "78517d55-dbcc-4f6e-9885-3389b6f0d61b"
      },
      "execution_count": 10,
      "outputs": [
        {
          "output_type": "stream",
          "name": "stdout",
          "text": [
            "Первые две книги, отсортированные по названию:\n",
            "(2, '1984', 'George Orwell', 1949, 'Dystopian')\n",
            "(1, 'The Great Gatsby', 'F. Scott Fitzgerald', 1925, 'Fiction')\n"
          ]
        }
      ]
    },
    {
      "cell_type": "markdown",
      "source": [
        "8. Агрегатные функции\n",
        "Подсчитайте общее количество книг в таблице books."
      ],
      "metadata": {
        "id": "1bGTalVxwGMU"
      }
    },
    {
      "cell_type": "code",
      "source": [
        "import sqlite3\n",
        "\n",
        "conn = sqlite3.connect('library.db')\n",
        "cursor = conn.cursor()\n",
        "\n",
        "cursor.execute('SELECT COUNT(*) FROM books')\n",
        "\n",
        "total_books = cursor.fetchone()[0]\n",
        "\n",
        "print(f\"Общее количество книг в таблице: {total_books}\")\n",
        "\n",
        "conn.close()"
      ],
      "metadata": {
        "colab": {
          "base_uri": "https://localhost:8080/"
        },
        "id": "GdRjwIL7wKXR",
        "outputId": "9d865c1c-06e2-4ff0-89d8-69702ccfe7d9"
      },
      "execution_count": 11,
      "outputs": [
        {
          "output_type": "stream",
          "name": "stdout",
          "text": [
            "Общее количество книг в таблице: 3\n"
          ]
        }
      ]
    },
    {
      "cell_type": "markdown",
      "source": [
        "9. Группировка данных\n",
        "Подсчитайте количество книг для каждого жанра."
      ],
      "metadata": {
        "id": "W5dISOyFwh_c"
      }
    },
    {
      "cell_type": "code",
      "source": [
        "import sqlite3\n",
        "\n",
        "conn = sqlite3.connect('library.db')\n",
        "cursor = conn.cursor()\n",
        "\n",
        "query = '''\n",
        "SELECT genre, COUNT(*) as book_count\n",
        "FROM books\n",
        "GROUP BY genre\n",
        "ORDER BY book_count DESC\n",
        "'''\n",
        "cursor.execute(query)\n",
        "\n",
        "genre_stats = cursor.fetchall()\n",
        "\n",
        "print(\"Количество книг по жанрам:\")\n",
        "for genre, count in genre_stats:\n",
        "    print(f\"{genre}: {count}\")\n",
        "conn.close()"
      ],
      "metadata": {
        "colab": {
          "base_uri": "https://localhost:8080/"
        },
        "id": "L_Svp-H-wnRM",
        "outputId": "5a4f1c7d-0a16-457f-9161-7f704fdc2b8b"
      },
      "execution_count": 12,
      "outputs": [
        {
          "output_type": "stream",
          "name": "stdout",
          "text": [
            "Количество книг по жанрам:\n",
            "Fiction: 1\n",
            "Dystopian: 1\n",
            "Classic: 1\n"
          ]
        }
      ]
    },
    {
      "cell_type": "markdown",
      "source": [
        "10. Обновление данных\n",
        "Обновите год публикации книги \"1984\" на 1948."
      ],
      "metadata": {
        "id": "ATyltfX2w5gn"
      }
    },
    {
      "cell_type": "code",
      "source": [
        "import sqlite3\n",
        "\n",
        "connection = sqlite3.connect('library.db')\n",
        "cursor = connection.cursor()\n",
        "\n",
        "update_query = '''\n",
        "UPDATE books\n",
        "SET year_published = 1984\n",
        "WHERE title = '1984'\n",
        "'''\n",
        "cursor.execute(update_query)\n",
        "\n",
        "connection.commit()\n",
        "connection.close()"
      ],
      "metadata": {
        "id": "iW2j6SJVw7_S"
      },
      "execution_count": 16,
      "outputs": []
    },
    {
      "cell_type": "markdown",
      "source": [
        "11. Удаление данных\n",
        "Удалите книгу с названием \"The Great Gatsby\"."
      ],
      "metadata": {
        "id": "3SvwDwYrx_AA"
      }
    },
    {
      "cell_type": "code",
      "source": [
        "import sqlite3\n",
        "\n",
        "connection = sqlite3.connect('library.db')\n",
        "cursor = connection.cursor()\n",
        "\n",
        "delete_query = '''\n",
        "DELETE FROM books\n",
        "WHERE title = ?;\n",
        "'''\n",
        "book_title = \"The Great Gatsby\"\n",
        "\n",
        "cursor.execute(delete_query, (book_title,))\n",
        "\n",
        "connection.commit()\n",
        "connection.close()"
      ],
      "metadata": {
        "id": "NciuGPOIyG80"
      },
      "execution_count": 17,
      "outputs": []
    },
    {
      "cell_type": "markdown",
      "source": [
        "12. Создание индекса\n",
        "Создайте индекс для столбца author в таблице books."
      ],
      "metadata": {
        "id": "gsSB1Ov2yjS4"
      }
    },
    {
      "cell_type": "code",
      "source": [
        "import sqlite3\n",
        "\n",
        "conn = sqlite3.connect('library.db')\n",
        "cursor = conn.cursor()\n",
        "\n",
        "create_index_query = '''\n",
        "CREATE INDEX IF NOT EXISTS idx_books_author\n",
        "ON books (author)\n",
        "'''\n",
        "cursor.execute(create_index_query)\n",
        "\n",
        "conn.commit()\n",
        "conn.close()"
      ],
      "metadata": {
        "id": "Q30tKb-hymJo"
      },
      "execution_count": 19,
      "outputs": []
    },
    {
      "cell_type": "markdown",
      "source": [
        "13. Проверка существования индекса\n",
        "Проверьте, существует ли индекс для столбца author."
      ],
      "metadata": {
        "id": "M6VeEjD4y_Z5"
      }
    },
    {
      "cell_type": "code",
      "source": [
        "import sqlite3\n",
        "\n",
        "conn = sqlite3.connect('library.db')\n",
        "cursor = conn.cursor()\n",
        "\n",
        "cursor.execute('''\n",
        "SELECT name FROM sqlite_master\n",
        "WHERE type = 'index' AND name = 'idx_books_author'\n",
        "''')\n",
        "index_exists = cursor.fetchone()\n",
        "\n",
        "if index_exists:\n",
        "    print(\"Индекс idx_books_author существует\")\n",
        "else:\n",
        "    print(\"Индекс idx_books_author не существует\")\n",
        "\n",
        "conn.close()"
      ],
      "metadata": {
        "colab": {
          "base_uri": "https://localhost:8080/"
        },
        "id": "l2yslOKrzCkO",
        "outputId": "f30777f4-3cd6-4779-8019-713e02ccbf2f"
      },
      "execution_count": 21,
      "outputs": [
        {
          "output_type": "stream",
          "name": "stdout",
          "text": [
            "Индекс idx_books_author существует\n"
          ]
        }
      ]
    },
    {
      "cell_type": "markdown",
      "source": [
        "14. Триггер для логирования\n",
        "Создайте триггер, который записывает изменения в таблицу logs при добавлении новой книги."
      ],
      "metadata": {
        "id": "QfBCrKtIzRe6"
      }
    },
    {
      "cell_type": "code",
      "source": [
        "import sqlite3\n",
        "from datetime import datetime\n",
        "\n",
        "conn = sqlite3.connect('library.db')\n",
        "cursor = conn.cursor()\n",
        "\n",
        "cursor.execute('''\n",
        "CREATE TABLE IF NOT EXISTS logs (\n",
        "    id INTEGER PRIMARY KEY AUTOINCREMENT,\n",
        "    action TEXT NOT NULL,\n",
        "    book_id INTEGER,\n",
        "    book_title TEXT,\n",
        "    change_date TEXT NOT NULL,\n",
        "    FOREIGN KEY (book_id) REFERENCES books (id)\n",
        ")\n",
        "''')\n",
        "\n",
        "cursor.execute('''\n",
        "CREATE TRIGGER IF NOT EXISTS log_new_book\n",
        "AFTER INSERT ON books\n",
        "BEGIN\n",
        "    INSERT INTO logs (action, book_id, book_title, change_date)\n",
        "    VALUES ('INSERT', NEW.id, NEW.title, datetime('now'));\n",
        "END;\n",
        "''')\n",
        "\n",
        "cursor.execute('''\n",
        "INSERT INTO books (title, author, year_published, genre)\n",
        "VALUES ('The Hobbit', 'J.R.R. Tolkien', 1937, 'Fantasy')\n",
        "''')\n",
        "\n",
        "cursor.execute('SELECT * FROM logs')\n",
        "logs = cursor.fetchall()\n",
        "\n",
        "print(\"Записи в логах:\")\n",
        "for log in logs:\n",
        "    print(log)\n",
        "\n",
        "conn.commit()\n",
        "conn.close()"
      ],
      "metadata": {
        "colab": {
          "base_uri": "https://localhost:8080/"
        },
        "id": "sJtYN-NKzxgH",
        "outputId": "e0d7c15a-9a9d-4c48-e2cb-a2e1966e1f20"
      },
      "execution_count": 22,
      "outputs": [
        {
          "output_type": "stream",
          "name": "stdout",
          "text": [
            "Записи в логах:\n",
            "(1, 'INSERT', 4, 'The Hobbit', '2025-04-25 11:58:28')\n"
          ]
        }
      ]
    },
    {
      "cell_type": "markdown",
      "source": [
        "15. Транзакции\n",
        "Создайте программу, которая выполняет следующие действия в рамках одной транзакции:\n",
        "\n",
        "Добавляет новую книгу.\n",
        "Обновляет год публикации другой книги.\n",
        "Отменяет изменения, если возникает ошибка."
      ],
      "metadata": {
        "id": "zNLuv68l0PKx"
      }
    },
    {
      "cell_type": "code",
      "source": [
        "import sqlite3\n",
        "\n",
        "connection = sqlite3.connect('library.db')\n",
        "cursor = connection.cursor()\n",
        "\n",
        "try:\n",
        "    cursor.execute('BEGIN TRANSACTION')\n",
        "\n",
        "    cursor.execute('''\n",
        "    INSERT INTO books (title, author, year_published, genre)\n",
        "    VALUES (?, ?, ?, ?)\n",
        "    ''', ('Brave New World', 'Aldous Huxley', 1932, 'Dystopian'))\n",
        "\n",
        "    cursor.execute('''\n",
        "    UPDATE books\n",
        "    SET year_published = ?\n",
        "    WHERE title = ?\n",
        "    ''', (1951, 'The Hobbit'))\n",
        "\n",
        "    connection.commit()\n",
        "    print(\"Транзакция успешно завершена.\")\n",
        "except Exception as e:\n",
        "    connection.rollback()\n",
        "    print(f\"Ошибка: {e}. Изменения отменены.\")\n",
        "finally:\n",
        "    connection.close()"
      ],
      "metadata": {
        "colab": {
          "base_uri": "https://localhost:8080/"
        },
        "id": "s6Q6fc6p0nPG",
        "outputId": "1caf2c66-54ba-4b09-a3f4-1391d2ed72e7"
      },
      "execution_count": 23,
      "outputs": [
        {
          "output_type": "stream",
          "name": "stdout",
          "text": [
            "Транзакция успешно завершена.\n"
          ]
        }
      ]
    },
    {
      "cell_type": "markdown",
      "source": [
        "16. Пользовательская функция\n",
        "Создайте пользовательскую функцию на Python, которая вычисляет возраст книги (текущий год минус год публикации), и используйте её в SQL-запросе."
      ],
      "metadata": {
        "id": "jjPYDA-Y1SwL"
      }
    },
    {
      "cell_type": "code",
      "source": [
        "import sqlite3\n",
        "from datetime import datetime\n",
        "\n",
        "def calculate_book_age(year_published):\n",
        "    current_year = datetime.now().year\n",
        "    return current_year - year_published if year_published else None\n",
        "\n",
        "conn = sqlite3.connect('library.db')\n",
        "\n",
        "conn.create_function(\"book_age\", 1, calculate_book_age)\n",
        "cursor = conn.cursor()\n",
        "\n",
        "print(\"Возраст всех книг:\")\n",
        "cursor.execute('''\n",
        "SELECT\n",
        "    title,\n",
        "    year_published,\n",
        "    book_age(year_published) AS age\n",
        "FROM books\n",
        "''')\n",
        "\n",
        "for row in cursor.fetchall():\n",
        "    print(f\"Книга: {row[0]}, Год публикации: {row[1]}, Возраст: {row[2]} лет\")\n",
        "\n",
        "conn.close()"
      ],
      "metadata": {
        "colab": {
          "base_uri": "https://localhost:8080/"
        },
        "id": "S08PdLA51byo",
        "outputId": "84daed48-eade-496f-b115-da094e1f03cd"
      },
      "execution_count": 24,
      "outputs": [
        {
          "output_type": "stream",
          "name": "stdout",
          "text": [
            "Возраст всех книг:\n",
            "Книга: 1984, Год публикации: 1984, Возраст: 41 лет\n",
            "Книга: To Kill a Mockingbird, Год публикации: 1960, Возраст: 65 лет\n",
            "Книга: The Hobbit, Год публикации: 1951, Возраст: 74 лет\n",
            "Книга: Brave New World, Год публикации: 1932, Возраст: 93 лет\n"
          ]
        }
      ]
    },
    {
      "cell_type": "markdown",
      "source": [
        "17. Представления\n",
        "Создайте представление modern_books, которое содержит книги, опубликованные после 1950 года."
      ],
      "metadata": {
        "id": "78zK6aJ215Dx"
      }
    },
    {
      "cell_type": "code",
      "source": [
        "import sqlite3\n",
        "\n",
        "conn = sqlite3.connect('library.db')\n",
        "cursor = conn.cursor()\n",
        "\n",
        "create_view_query = '''\n",
        "CREATE VIEW IF NOT EXISTS modern_books AS\n",
        "SELECT id, title, author, year_published, genre\n",
        "FROM books\n",
        "WHERE year_published > 1950\n",
        "ORDER BY year_published DESC\n",
        "'''\n",
        "\n",
        "cursor.execute(create_view_query)\n",
        "conn.commit()\n",
        "\n",
        "print(\"Содержимое представления modern_books:\")\n",
        "cursor.execute(\"SELECT * FROM modern_books\")\n",
        "for row in cursor.fetchall():\n",
        "    print(row)\n",
        "\n",
        "conn.close()"
      ],
      "metadata": {
        "colab": {
          "base_uri": "https://localhost:8080/"
        },
        "id": "Rl4x0krE19nX",
        "outputId": "319e3e6a-5ddb-4c0a-dcea-bbc89730ffb8"
      },
      "execution_count": 25,
      "outputs": [
        {
          "output_type": "stream",
          "name": "stdout",
          "text": [
            "Содержимое представления modern_books:\n",
            "(2, '1984', 'George Orwell', 1984, 'Dystopian')\n",
            "(3, 'To Kill a Mockingbird', 'Harper Lee', 1960, 'Classic')\n",
            "(4, 'The Hobbit', 'J.R.R. Tolkien', 1951, 'Fantasy')\n"
          ]
        }
      ]
    },
    {
      "cell_type": "markdown",
      "source": [
        "19. Композитный индекс\n",
        "Создайте композитный индекс для столбцов author и year_published в таблице books."
      ],
      "metadata": {
        "id": "_jaVUUm32KDF"
      }
    },
    {
      "cell_type": "code",
      "source": [
        "import sqlite3\n",
        "\n",
        "def create_composite_index():\n",
        "    conn = sqlite3.connect('library.db')\n",
        "    cursor = conn.cursor()\n",
        "\n",
        "    try:\n",
        "        cursor.execute('''\n",
        "        CREATE INDEX IF NOT EXISTS idx_books_author_year\n",
        "        ON books (author, year_published)\n",
        "        ''')\n",
        "        conn.commit()\n",
        "        print(\"Композитный индекс idx_books_author_year успешно создан\")\n",
        "\n",
        "        cursor.execute('''\n",
        "        SELECT name FROM sqlite_master\n",
        "        WHERE type = 'index' AND name = 'idx_books_author_year'\n",
        "        ''')\n",
        "        if cursor.fetchone():\n",
        "            print(\"Индекс существует в базе данных\")\n",
        "        else:\n",
        "            print(\"Индекс не был создан\")\n",
        "\n",
        "    except sqlite3.Error as e:\n",
        "        print(f\"Ошибка при создании индекса: {e}\")\n",
        "    finally:\n",
        "        conn.close()\n",
        "\n",
        "create_composite_index()"
      ],
      "metadata": {
        "colab": {
          "base_uri": "https://localhost:8080/"
        },
        "id": "0vQJL4EW2RSH",
        "outputId": "fef9fb91-ac14-430f-f341-1d69a9f6c580"
      },
      "execution_count": 26,
      "outputs": [
        {
          "output_type": "stream",
          "name": "stdout",
          "text": [
            "Композитный индекс idx_books_author_year успешно создан\n",
            "Индекс существует в базе данных\n"
          ]
        }
      ]
    },
    {
      "cell_type": "markdown",
      "source": [
        "18. Удаление таблицы\n",
        "Удалите таблицу books и проверьте её существование."
      ],
      "metadata": {
        "id": "J-RQHuBB2aew"
      }
    },
    {
      "cell_type": "code",
      "source": [
        "import sqlite3\n",
        "\n",
        "def safe_drop_table():\n",
        "    conn = sqlite3.connect('library.db')\n",
        "    cursor = conn.cursor()\n",
        "\n",
        "    try:\n",
        "        cursor.execute(\"DROP TABLE IF EXISTS books\")\n",
        "        conn.commit()\n",
        "\n",
        "        cursor.execute(\"SELECT name FROM sqlite_master WHERE type='table'\")\n",
        "        tables = [table[0] for table in cursor.fetchall()]\n",
        "\n",
        "        if 'books' not in tables:\n",
        "            print(\"Таблица books успешно удалена\")\n",
        "        else:\n",
        "            print(\"Не удалось удалить таблицу books\")\n",
        "\n",
        "    except sqlite3.Error as e:\n",
        "        print(f\"Ошибка: {e}\")\n",
        "    finally:\n",
        "        conn.close()\n",
        "\n",
        "safe_drop_table()"
      ],
      "metadata": {
        "colab": {
          "base_uri": "https://localhost:8080/"
        },
        "id": "-PYAWjBP2d4v",
        "outputId": "ebd7da4a-79ae-4a62-d526-d9990f29852a"
      },
      "execution_count": 27,
      "outputs": [
        {
          "output_type": "stream",
          "name": "stdout",
          "text": [
            "Таблица books успешно удалена\n"
          ]
        }
      ]
    },
    {
      "cell_type": "markdown",
      "source": [
        "20. Удаление базы данных\n",
        "Напишите программу, которая удаляет файл базы данных library.db, если он существует."
      ],
      "metadata": {
        "id": "Nm0NzzXg3Au3"
      }
    },
    {
      "cell_type": "code",
      "source": [
        "import sqlite3\n",
        "import os\n",
        "\n",
        "db_file = 'library.db'\n",
        "\n",
        "connection = sqlite3.connect(db_file)\n",
        "\n",
        "connection.close()\n",
        "\n",
        "if os.path.exists(db_file):\n",
        "    print(f\"Удаляем базу данных '{db_file}'...\")\n",
        "    os.remove(db_file)\n",
        "else:\n",
        "    print(f\"База данных '{db_file}' не существует.\")"
      ],
      "metadata": {
        "colab": {
          "base_uri": "https://localhost:8080/"
        },
        "id": "Ij8blR0m3B2x",
        "outputId": "69744240-5046-4d94-b26d-e0e4a76ba2a1"
      },
      "execution_count": 28,
      "outputs": [
        {
          "output_type": "stream",
          "name": "stdout",
          "text": [
            "Удаляем базу данных 'library.db'...\n"
          ]
        }
      ]
    }
  ]
}