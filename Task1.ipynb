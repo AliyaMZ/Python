{
  "nbformat": 4,
  "nbformat_minor": 0,
  "metadata": {
    "colab": {
      "provenance": [],
      "authorship_tag": "ABX9TyMOMCoqD8cyVD7FYo02GK5Q",
      "include_colab_link": true
    },
    "kernelspec": {
      "name": "python3",
      "display_name": "Python 3"
    },
    "language_info": {
      "name": "python"
    }
  },
  "cells": [
    {
      "cell_type": "markdown",
      "metadata": {
        "id": "view-in-github",
        "colab_type": "text"
      },
      "source": [
        "<a href=\"https://colab.research.google.com/github/AliyaMZ/Python/blob/main/Task1.ipynb\" target=\"_parent\"><img src=\"https://colab.research.google.com/assets/colab-badge.svg\" alt=\"Open In Colab\"/></a>"
      ]
    },
    {
      "cell_type": "markdown",
      "source": [
        "Вариант 7\n",
        "\n",
        "Задачи для самостоятельной работы 1\n",
        "\n",
        "\n",
        "![image.png](data:image/png;base64,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)\n",
        "\n",
        "\n"
      ],
      "metadata": {
        "id": "yaKJadmjUP9a"
      }
    },
    {
      "cell_type": "code",
      "source": [
        "x=float(input(\"Enter x: \"))\n",
        "y=float(input(\"Enter y: \"))\n",
        "a=float(input(\"Enter a: \"))\n",
        "z1=(x**2 - x*y)/((9*x**2 - 18*x*y + 9*y**2))\n",
        "z2=(a**4 - a)/(3*a**2 + 3*a + 3)\n",
        "z=z1 + z2\n",
        "print(z)"
      ],
      "metadata": {
        "colab": {
          "base_uri": "https://localhost:8080/"
        },
        "id": "nFIhrHMGU1HC",
        "outputId": "263fc799-0546-4f24-d48a-bcedc7dc4556"
      },
      "execution_count": 2,
      "outputs": [
        {
          "output_type": "stream",
          "name": "stdout",
          "text": [
            "Enter x: 2\n",
            "Enter y: 3\n",
            "Enter a: 2\n",
            "0.4444444444444444\n"
          ]
        }
      ]
    },
    {
      "cell_type": "markdown",
      "source": [
        "![image.png](data:image/png;base64,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)"
      ],
      "metadata": {
        "id": "5exs8cpcXVDK"
      }
    },
    {
      "cell_type": "code",
      "source": [
        "import math\n",
        "\n",
        "x=float(input(\"Enter x: \"))\n",
        "z=math.log(math.sin(3*x) + 2**x,math.e)\n",
        "print(z)"
      ],
      "metadata": {
        "colab": {
          "base_uri": "https://localhost:8080/"
        },
        "id": "-SZNJPfYXcS3",
        "outputId": "b1c9443c-12f8-4790-ba62-6c587e2c2bc3"
      },
      "execution_count": 4,
      "outputs": [
        {
          "output_type": "stream",
          "name": "stdout",
          "text": [
            "Enter x: 2\n",
            "1.3138807800824241\n"
          ]
        }
      ]
    },
    {
      "cell_type": "markdown",
      "source": [
        "3) Составить программу перевода радианной меры угла в градусы, минуты и секунды."
      ],
      "metadata": {
        "id": "V6vAhlw6ZGJG"
      }
    },
    {
      "cell_type": "code",
      "source": [
        "import math\n",
        "\n",
        "r=float(input(\"введите радианную меру: \"))\n",
        "gr=r*(180/math.pi)\n",
        "min=gr*60\n",
        "sec=gr*3600\n",
        "print(\"градусы= \",gr)\n",
        "print(\"минуты= \",min)\n",
        "print(\"секунды= \",sec)"
      ],
      "metadata": {
        "colab": {
          "base_uri": "https://localhost:8080/"
        },
        "id": "mdwE6bP3ZK4b",
        "outputId": "d614e02e-8c2a-41e2-9200-ae4e2ae267f2"
      },
      "execution_count": 6,
      "outputs": [
        {
          "output_type": "stream",
          "name": "stdout",
          "text": [
            "введите радианную меру: 0.9\n",
            "градусы=  51.56620156177409\n",
            "минуты=  3093.972093706446\n",
            "секунды=  185638.32562238674\n"
          ]
        }
      ]
    },
    {
      "cell_type": "markdown",
      "source": [
        "4) Дано трехзначное число. Вывести вначале его последнюю цифру (единицы), а затем — его среднюю цифру (десятки)."
      ],
      "metadata": {
        "id": "00qUAvqEa6EU"
      }
    },
    {
      "cell_type": "code",
      "source": [
        "x=int(input(\"введите трехзначное число: \"))\n",
        "a=x%10\n",
        "b=((x-a)//10)%10\n",
        "print(a)\n",
        "print(b)"
      ],
      "metadata": {
        "colab": {
          "base_uri": "https://localhost:8080/"
        },
        "id": "RZBN61j2cqI0",
        "outputId": "226fced3-42ef-4577-86e6-637b1c75ddda"
      },
      "execution_count": 12,
      "outputs": [
        {
          "output_type": "stream",
          "name": "stdout",
          "text": [
            "введите трехзначное число: 478\n",
            "8\n",
            "7\n"
          ]
        }
      ]
    },
    {
      "cell_type": "markdown",
      "source": [
        "5) Даны координаты поля шахматной доски x, y (целые числа, лежащие в диапазоне 1–8). Учитывая, что левое нижнее поле доски (1, 1) является черным, проверить истинность высказывания: «Данное поле является белым»."
      ],
      "metadata": {
        "id": "kB-MStMBdnkT"
      }
    },
    {
      "cell_type": "code",
      "source": [
        "x= int(input(\"введите x: \"))\n",
        "y = int(input(\"введите y: \"))\n",
        "a=(x+y)%2==1\n",
        "print(a)\n"
      ],
      "metadata": {
        "colab": {
          "base_uri": "https://localhost:8080/"
        },
        "id": "fbS4bBnddrrP",
        "outputId": "8639e3fe-2d46-414c-fedb-89f9eb19d806"
      },
      "execution_count": 17,
      "outputs": [
        {
          "output_type": "stream",
          "name": "stdout",
          "text": [
            "введите x: 1\n",
            "введите y: 1\n",
            "False\n"
          ]
        }
      ]
    }
  ]
}