{
  "nbformat": 4,
  "nbformat_minor": 0,
  "metadata": {
    "colab": {
      "provenance": [],
      "authorship_tag": "ABX9TyOajymKZ3BUZuO7Z8Qpmy73",
      "include_colab_link": true
    },
    "kernelspec": {
      "name": "python3",
      "display_name": "Python 3"
    },
    "language_info": {
      "name": "python"
    }
  },
  "cells": [
    {
      "cell_type": "markdown",
      "metadata": {
        "id": "view-in-github",
        "colab_type": "text"
      },
      "source": [
        "<a href=\"https://colab.research.google.com/github/AliyaMZ/Python/blob/main/Task1.ipynb\" target=\"_parent\"><img src=\"https://colab.research.google.com/assets/colab-badge.svg\" alt=\"Open In Colab\"/></a>"
      ]
    },
    {
      "cell_type": "markdown",
      "source": [
        "Вариант 7\n",
        "\n",
        "Задачи для самостоятельной работы 1\n",
        "\n",
        "\n",
        "![image.png](data:image/png;base64,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)\n",
        "\n",
        "\n"
      ],
      "metadata": {
        "id": "yaKJadmjUP9a"
      }
    },
    {
      "cell_type": "code",
      "source": [
        "x=float(input(\"Enter x: \"))\n",
        "y=float(input(\"Enter y: \"))\n",
        "a=float(input(\"Enter a: \"))\n",
        "z1=(x**2 - x*y)/((9*x**2 - 18*x*y + 9*y**2))\n",
        "z2=(a**4 - a)/(3*a**2 + 3*a + 3)\n",
        "z=z1 + z2\n",
        "print(z)"
      ],
      "metadata": {
        "colab": {
          "base_uri": "https://localhost:8080/"
        },
        "id": "nFIhrHMGU1HC",
        "outputId": "263fc799-0546-4f24-d48a-bcedc7dc4556"
      },
      "execution_count": null,
      "outputs": [
        {
          "output_type": "stream",
          "name": "stdout",
          "text": [
            "Enter x: 2\n",
            "Enter y: 3\n",
            "Enter a: 2\n",
            "0.4444444444444444\n"
          ]
        }
      ]
    },
    {
      "cell_type": "markdown",
      "source": [
        "![image.png](data:image/png;base64,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)"
      ],
      "metadata": {
        "id": "5exs8cpcXVDK"
      }
    },
    {
      "cell_type": "code",
      "source": [
        "import math\n",
        "\n",
        "x=float(input(\"Enter x: \"))\n",
        "z=math.log(math.sin(3*x) + 2**x,math.e)\n",
        "print(z)"
      ],
      "metadata": {
        "colab": {
          "base_uri": "https://localhost:8080/"
        },
        "id": "-SZNJPfYXcS3",
        "outputId": "b1c9443c-12f8-4790-ba62-6c587e2c2bc3"
      },
      "execution_count": null,
      "outputs": [
        {
          "output_type": "stream",
          "name": "stdout",
          "text": [
            "Enter x: 2\n",
            "1.3138807800824241\n"
          ]
        }
      ]
    },
    {
      "cell_type": "markdown",
      "source": [
        "3) Составить программу перевода радианной меры угла в градусы, минуты и секунды."
      ],
      "metadata": {
        "id": "V6vAhlw6ZGJG"
      }
    },
    {
      "cell_type": "code",
      "source": [
        "import math\n",
        "\n",
        "r=float(input(\"введите радианную меру: \"))\n",
        "gr=r*(180/math.pi)\n",
        "min=gr*60\n",
        "sec=gr*3600\n",
        "print(\"градусы= \",gr)\n",
        "print(\"минуты= \",min)\n",
        "print(\"секунды= \",sec)"
      ],
      "metadata": {
        "colab": {
          "base_uri": "https://localhost:8080/"
        },
        "id": "mdwE6bP3ZK4b",
        "outputId": "d614e02e-8c2a-41e2-9200-ae4e2ae267f2"
      },
      "execution_count": null,
      "outputs": [
        {
          "output_type": "stream",
          "name": "stdout",
          "text": [
            "введите радианную меру: 0.9\n",
            "градусы=  51.56620156177409\n",
            "минуты=  3093.972093706446\n",
            "секунды=  185638.32562238674\n"
          ]
        }
      ]
    },
    {
      "cell_type": "markdown",
      "source": [
        "4) Дано трехзначное число. Вывести вначале его последнюю цифру (единицы), а затем — его среднюю цифру (десятки)."
      ],
      "metadata": {
        "id": "00qUAvqEa6EU"
      }
    },
    {
      "cell_type": "code",
      "source": [
        "x=int(input(\"введите трехзначное число: \"))\n",
        "a=x%10\n",
        "b=((x-a)//10)%10\n",
        "print(a)\n",
        "print(b)"
      ],
      "metadata": {
        "colab": {
          "base_uri": "https://localhost:8080/"
        },
        "id": "RZBN61j2cqI0",
        "outputId": "226fced3-42ef-4577-86e6-637b1c75ddda"
      },
      "execution_count": null,
      "outputs": [
        {
          "output_type": "stream",
          "name": "stdout",
          "text": [
            "введите трехзначное число: 478\n",
            "8\n",
            "7\n"
          ]
        }
      ]
    },
    {
      "cell_type": "markdown",
      "source": [
        "5) Даны координаты поля шахматной доски x, y (целые числа, лежащие в диапазоне 1–8). Учитывая, что левое нижнее поле доски (1, 1) является черным, проверить истинность высказывания: «Данное поле является белым»."
      ],
      "metadata": {
        "id": "kB-MStMBdnkT"
      }
    },
    {
      "cell_type": "code",
      "source": [
        "x= int(input(\"введите x: \"))\n",
        "y = int(input(\"введите y: \"))\n",
        "a=(x+y)%2==1\n",
        "print(a)\n"
      ],
      "metadata": {
        "colab": {
          "base_uri": "https://localhost:8080/"
        },
        "id": "fbS4bBnddrrP",
        "outputId": "8639e3fe-2d46-414c-fedb-89f9eb19d806"
      },
      "execution_count": null,
      "outputs": [
        {
          "output_type": "stream",
          "name": "stdout",
          "text": [
            "введите x: 1\n",
            "введите y: 1\n",
            "False\n"
          ]
        }
      ]
    },
    {
      "cell_type": "markdown",
      "source": [
        "1)\tДля данного вещественного x найти значение следующей функции f, принимающей вещественные значения:\n",
        "![image.png](data:image/png;base64,iVBORw0KGgoAAAANSUhEUgAAAa4AAABbCAYAAAAr3WGEAAAAAXNSR0IArs4c6QAAAARnQU1BAACxjwv8YQUAAAAgY0hSTQAAeiYAAICEAAD6AAAAgOgAAHUwAADqYAAAOpgAABdwnLpRPAAAAAlwSFlzAAAXEQAAFxEByibzPwAAI+JJREFUeF7t3Qm4JVtVH3BNzGAivivEQFChAQEV8TUERAkhjRocAF8ro0yvERQjU4MoRqI0Cs7AE1FkUBoQwYixIzggyGtUFBBl0CgCMgjOAg+UqEk0WT+sRbbbOufUme499961vu//3XOrdu3hX7v22mutXbs+4iNKioFioBgoBoqBYqAYKAaKgWKgGCgGioFioBgoBoqBYqAYKAaKgWKgGCgGioFioBgoBoqBYqAYKAaKgWKgGCgGioFioBgoBoqBYqAYKAaKgWKgGJjJwD+KM1cPfGRxVAwUA8VAMVAM7DIDlNVDAs8I3D/wj3e5slW3YqAYKAaKgePNwO2i+W8IPC3wGYGPOt50VOuLgWKgGCgGdpmBE1G59wW+dZcrWXUrBoqBYqAYKAaSge+KH78eENvatFwtMjwTeHDg+pvOvPIrBoqBYqAYOH4M/PNo8m8EvmoLTf/EyPPFgdcG3hv4s8DnbaGcyrIYKAaKgWLgGDHwr6KtfxT47C20maV1WeCfBj4p8PrAmwMfvYWyKstioBgoBoqBY8LAZ0Y73xM4ueH2Wkp/nS7Pr47/3x+4ZMNlVXbFQDFQDBQDx4gBqwl/L2Ap/LblG6KAHwtsI5a27bpvO/9PjwLuGbjltguq/Ndm4GMjh1sFbh/gSSgpBoqBfWbgP0R57wzsbblcsbSfDXzWlss5bNn/i6jwUwM/E3h84KcDPx7gwi3ZPQa+NKr0tsD/HcCD8Mx9eH52j4mqUTFwgAyk4vq4LdfhayN/rsKS/8+AWN+FwLsC/2Y4vBd/Xx14aaDepdut3vIFUR0Lmc4F7h7w+shfDwrsu+Nv7TSzW/eranOEGdgPxfW5wd8DjjCHqzbtEcOgd98uA3yZ0Z9dNeMZ13EHPyrwhRvOdxey434+HTBB2oYr+hqR7xMDN+gaq1+7V1bNbnvytws8Vx2KgZ1gYNuK6zbRSrGblH8ZP264Ey0/2EpwBb478Fcjg6HFK38c+MPA3gaq+SmRB4vgtwK/GHBPjorg58sDvxR4U8BkYBuWj3KuN0Kae+U+/a/Axx8VUqsdxcCuM7AtxWXwEA/408AvBF4WeHng1wLKXFcMGOJDU0Taj5mR0Ozccn2iztxzibwkj0v7T7p8pHVcmlnnxor+4jhopv4/Av3rAfaIvDicv+uUBs5Iw3J7fuAtAXEzrq5tDOpZ/Bg/ud+lv1l2crZG0z5k+XxbwDZlrwj8p8BBxAXdcxMQ8dv+/q/Tvrq2GCgG5jAwVXGZTUrLNXK3Lj8P7L0CXF4ZlzGIfVngMYFzgW8JPC7AlZOKYpUbYzB+SsDqRC82G5itjBwTK7/OB/5b4OcDFwKnu4RiS08OWBTh/I8Mecr3RcPxn4q/3xg4EXh64OeG4y+Jvy8IGEQtPlEvClpeBrLnBPpXArL474gfFJcXtMc2M/6h4Tz31DJCCboX6uGduScEbjqSwX+MYw8PPHQipLWKbp58cpw8H7gyYLEJ4JbC4p68EHAfKNFV3xu0uOeHh7b9ZPy9Q6DnTz2mtku6swEThFU2lb5JXGdVbq0GXdA56nQxsEkGpiou7iWDN7eIAZc1Rf51wCCdq6y2ua2TWTWlQVEp90uGcrlp7tGRYicQix5cc83ApQGWx98GzjRpDVZ2+NAGyupEgCLiXmMNaZfBXx4UtHMGX8cF6k8GKGKDs7ZTZs79auBGwzVNcR/++dwh3fmxk3HsO4fzlOCUmM21I51JAWXOwqVo5rmuTChs86WeUyDtN8+oax7Gz40DbX/4ouHkP4u/LKM/CPzbwFRr2eUmQ/obRcjdaYLgfs6Sz5nYpmw3L8APBpa1mK4b13C9bmPXmQVU1+li4HgzMFVxJUtmuAZmg5B4lQfePoT/LnDHAMtjG2KG/rsBSqaVrxnqY0k/ZUZuHaCgvDfWyqOHtG+PvwbSVr4+/hEHaoUCkM+/745rLw7M/HvBh3MszFlCEf33IR1315hQlvKhCOdZAifj/JMCBuHzAYpiympEdZBO3lOwjHuPwqRg1P+bhsaxSFiAlNZU4fqjgLmYWVcmIdeacLFJxJQ2ZZpl2qZ4MVqK3xZm2viawGUT6lVJioFiYEMMLKu4POwe1L8IGFy5WrYtBqLnBbhkzgS4K0FQ3pLktPbEjciFAIXTxzy85MvFaIbcWzGUHAWQYvYt4P9/AtxBrZwdyvzR7vgD4/8czObxQmn+ypCHgXlMUnGxXuYpLqsEtfX3A7u0WpBV/JeBDwTcF5OAfvXkjKZ/+LDJikmG+/vYgBd/D1r0RRMZEw4u0ex72sr9WlIMFAP7wMCyikuVWBMeWHGUZd0rqzSJFcfaMos3gLUw8+XCNLPnPuKC4o56a2CZPRFZY7MU12d0laZstL9VXGIk4mOpcGYppMxKbCzdkGOcpKtwkcXlWi5J94Rr81WBBwUWLVTgTmM5smKmQFrxxWXk3NBGitXvVeSSuIjCuxjQB64InFyQEZetNnlvcErb8MUVOcUl2xctjmspvHu5aJKxSvvrmmKgGBhhYBXFxS3oQbWAYD/Etjp/HhBbWiSfGgksMX9HYJk4yjqK67ZRltjbNQIsINwsUlziNLPcjdroK9TOcz1OlatHQlafuIv4mwUgYnJjwuqkPCnbKZB22RfIWSdcmNrx+KmNmJOORfPCAAVm0jDLwrH/5pQ2ZRptOxeY4mIdq166q/8kTlK0JcVAMbBlBlZRXKwLg9FvBrYV02qb/WnxjwUYYiSLViRyB9rN4IMBKwZnSb8snOK6okncugpnWVzPjvTqZgHFzYdrWYBTFBdX4izFxTXImnX+kSvcf22z9N1qyjcGnhWwGm+/hdJ8XYAbDSj4TQjOfUOOcjaZuXegj1luopypeYitvi9g4dIuuDOn1rvSFQOHloFlFZfFEf81IEbzvwMUxbbFYGDxBZdTrlLry2RpWf5uxstVaNDn3hoTizf6zVFZSk9sEk9RXGIclspnbM3lUxXXzSLt3wS493qXpkUv4nnacIs1yRWf4760KvBFgcsC+zHZ0CZW6OXDfdAW71xdbc32tJd/XPzDcrR4Qzzy6wK5QGeDxSzMitL0viIlOi8euTCjSlAMFAPTGFhWcf1AZOt9HosZDEYWSBADxrYGDbGHC0N5b4u/l4407fvjWL6vlCv2WIR9rMf/Twv0A6hFHmebfCkuLjeLM/r3oDLG9f44d/euLmJteGnzGrsTrKKsp6X3rVh5R0m/NLCq+6ovkxtRLIcy6V8dGKvfuses0OSqJAZz5eKlX7m5bjmZPwuTy48LdpVY1Tr14JrkEfB6RkkxUAzsAwOLFJc4UQ7cXxG/KS7y+cNA5N0nysBiAi9+bks+LzI2mBv8WCNcaCwssCy9HRDFPqSDVwastvN+kYHllwNnhkr6n6Wl/qxICxZaca08+kUJFIDjrM5eUqHjY5FQwOJxfVpxLQpzG+49CpkS26Y8LDLnPm0X7rCIrbhkpd9ni4WbPG1DcYlfWohxsqv7x8T/rD3u2F5Yuy8OUNpjk60t0lBZFwNHm4FFistLrQZpbhBL0tOH730aS+Kds9T5TvtAkwExy0zF5C+XHfdaK2fjH3GVNp3fTx0SsQJy4cC747eXW/NFYrGxewZSUT45fl87wCV0nQAlJy8Wl9iWgdI5sReDmHOvCVD4i2JyFlOYrVs5xw37iAC3k7jNYRMuSJMb7X9moHWBXjP+/53hnPPem1u08nGX2k9pZV+iiCzIMEnxPuP5QN//1D2tb9e9ekJf2KX2Vl2KgZ1mYJHiEg+yzNdChE/oWkKpWa49K+60jYarjxVlLCeuNhbTLOXgXaKMx/lr8GmFZcaCFNu63nCCa057HhI4O/z1W1ov1t45YGGFYxQpV6HynaPs8hrn7hWYYt0oj+Vqxdz3BXKhR1fdnf+XchJXpHxZpTdsamwlavLG1SoedZisEPE0C0L0O7E6kx7K+bI5d4WV+ROB5wSshNzb+TtYFSwGDgkDixTXrjZjmSD4MmkPsr3LvHd2kPU8zmWzrhNTeTCp4VbmViwpBlZm4JK40mokpr7FBeI488Qb/KvOgg1GpwNjroSVG7DBCw+r4togBZVVMbBVBh4TuXONlhQDKzNgBdeFAB+1YDz/87k5uXF7eNG2X/k1tQJmZ+I/XFIWCOyalOLatTtS9TkqDFgowj36pMCiyfFRaXO1YwsMXD/yfHNAQJzoTBYd3H9GWZbWXgyw0NYVL196IXTWTgbr5r/q9aW4VmWurisG5jNgNaqVq/3L7sVbMbAUA17AfH2gXS47q1NxJVqVZqXYpkQgX1B3SsB+U2UuyqcU1yKG6nwxUAwUAwfEwF2iXG7BWbsptNWyq4Elyl5K3bRYdn0hsCsLBux07b0oq6ZKioFioBgoBnaEAVaVPds+ELBkd55Im+/pbNLayjK9fEmB3mFHuLGE23ZA5YPfkRtS1SgGioHjzYCXZO0+YFcFysIAbXsWb8HPEisIpfUi6SyriKuRu89+dzZgtdy1Fefl0++HJ40XWLkgvbi4H58EWdQD7EBRe6wtYqnOFwPFQDGwTww8IMqxbc97BmVkQ9OLAS9DzhIbklJc3zYnjaXt9wvYYNUWNl7CTYvllvH7VUMeYmp9DM3Lqrljgz3pDlq8xHvFQVeiyi8GioFioBj4OwZsQUPJ2JXA9j1iVxTMrAUZtu3hUqS4KKZZ4nrWmC1rbHckvdVDtgqyN5mtXihAn/8YE/VxjZ0n5snJOOmt++dOhD37LCqZKvj48wArtKQYKAaKgWJgRxhg4dhu5S2BRTttn4g04mA2OL3NxPqLVVFCrK/vDUzZIToVl22U5snJOElpUUhT4YuvU4RlyAL99imJK00xUAwUA8XA/jFggKZYfO10keTnCbj/xKimiG1c3jmUMfWTDfY8U6f9jnOJvdllXflchGemNLDSFAPFQDFQDOwvA7m7uZ0yFon3rCgUS+GX+aSEz1C4zuczpojtX6QX6+Ke3C+x5N0O3eprJ/KSYqAYKAaKgR1kgGVBSZyaUDfvNLG2uAptBzVV7LChjKn7kdkjcYrisuqQsrGCcQqslpy3JyKLS1zrbMCu1d84tYGVrhgoBoqBYmB/GDDo+4z7Hw8KYFGp3tv64KBUbL47RbgifePprwO2dJoijx7KsLBj3pJ4W8ZwQ74r4CXhRfjDSPM9UyoQabTVikt7KNaWNBNJq2TFQDFQDGybgdsNCsLKvCliT0LKgTXkg3iLxOfffT/JHog+E09J7g0XWWE46z2wpw9l5NeEZ5Vj1aKYlG9BTcHtI92nL6p0c97GwVcFPn+JayppMVAMFAPFwBYZ+JZBQdxtYhksj1zx97gZ10iTFspj43euIrTqj8Lz+ZNLA3aEHvvAIWVmUYa0ZybWa5vJ1HuRAt1m+ZV3MVAMFAPFwMCAeM7LA9yE83bK6An7ykGpjLn9KCKrE+2q4V2t1iqz+IMy4n7z4rFY0piIVXHpXRXovyh8EDfP3o2/HTgOWz7ZycRL37dYEnnNYfrU/EH0pSqzGCgG1mTAqjlbK02N+WRxFIuB/L0B39NpheLidvTSrp012tiQmJF3xd4asOP6LLEAhIJbtl5r0jHz8nvEmT8LiAceZbFo5XWB1wZMPEwwpsLn2sUj593Xo8xdta0YKAb2iQEDsmXtXHfLyuWDcrnjyIWU1ayZ916cW/SlYyv5rgpcb9lKbSk9RWoByFFXXF5v8CrAtYd75P27ZbDovm7p9lS2xUAxcJwYsMP7M1ZssDjUjwa8Z9V+u2vF7D58mS2ofMhyyqdV1i1r6vXH5XtcNhP+yamkVLpioBgoBvaDASsCU8mYVb8hcKM1Ct6La68MiGVtSizYoBA3qQzXrdtxUVwvDKIesy5ZdX0xUAwUA5tiwHLutwVuFfjYgA9AftkGMucStAfhI9ZUNpSqd7eeGdg1l9NhVFwngsfvCFwIfPWEe4Nz+zKe2kCfqCyKgWKgGNgIAxSWjXQteKAgTm8k17/LhNKx7F0saBXhHrSjxv1WuXgfrjlsisv9sPOIzYTPBex08qAFPPlmGsW1zOrSfaC+iigGioHjzoBB6aaBvS0R4WXjVcSO9Lu88GETims/d96guNrFMd5De/aCG8Mqq/jWKr23rikGioFiYAcZWEdxmSTYC5Ir9aDkXBQ878Og6uUVhk3GKg+qrVVuMVAMFAPFQDCwjuLKXfFXXb25zg1gdYllng/MW+zy0XHeu1u2/yopBoqBYqAYOAIMrKq47htt9yI1+IDmfsvJKDC32fK16VnuSvGt3wp4sbykGCgGioFi4AgwsIriEkv8xcCFA1RcSb1Njv8iIPY1JhZuqGdJMVAMFAPFwBFhYFnF5cOXLwlcFsjPs6xqcT0w8vjPa/Jo38F3B/Zm5FPxrTUJrsuLgWKgGNg1BpZVXN8eDXja0AgxpnVchb5jZnHHMuKdrNa6ovy8Hzf2CRnxrV8PnFpQADfj2PXKOsybD1vRKrb3BQMH3ne8c8BiFi/pz7JSky68mBjcabheXr6GIA+4S+B0c85k5pMbrm0i7VjGIO8avy2SsR2b9y1nifjlAwK+7vDdQ/na0spe/ONjr+r2pQHbs50K+Aq5un1xwGd+rhXwiSHppM80GfO87nDOcZCOe9l99ymh5C7z9VqM/GwX1opy1ME39OSDa58kUm/7mOJNmc7dIeA7fr17+zpx7CGB7wp4Wf62XRn+9Qklbcu8Pn4kTR7SNm1WF1j0Dqn6yNs7kjZLwGPPuzxwghvt0Aekcw+S3y+K37cO3HhIcyr+gvS8NSn2fpWP65y7NKBd6iq9+4d3bn4bXec9dk6/8lmmVmw4cTag35gQL/qKPX7PBbxGpU/udfnVvzvMwDKKS4eyQW0OOjYaXkdxeThesCQ3pyO9bbMeGjAYeMfumjPyyPjWrNcRbhLXfXPgYuAVgfZB8CD+fsD7gR6owyiUsYHIBsF/G/iNgIU0Lw78XsBXCr42MO91htvE+ecG/ibwVwGfwPnOgMHVAHc+4F06H1LFpYHJ4OMVBV9m+NMAJWmCkjFRf18VaJVc/PshoVRfHaCw7h9QX+n1O0o0hYJRpi9APCXwswFtdO0TA9r4voC6UiqPCnxgSPOy+KvvkBPD9b567nqTIAOe9y8pWu//OW6jZYuRXhrQrrcHzgx5+KMPPizwniG9BUE+p+QeqLdv8Nn0W148Fqk4Mwt5/VrAXqa+OvG8gHb7SkX7+gfO9Hn7sDrvaxVjYrLw80OaN8bfewd6Zdtep+97BvDoPhrM3fOfCeAvheLyBY0/CuDRRFZfeHIg+cW9scJzY9s89dRu3FFAKRSX9zFtWi708NkBStDzLb1nTx/w/FKEtvFzXH9Tv5NNXl8ev38z8DWBewXUQf31137xlo/3qrNXZLTVbkb4VNdlvmfYFF8/95uBqYpL53VjdaCUg1BcrChKxcOzaBm8+NZPB2YNzCyOmwfMbj1cHgzi4TFQudZg74E6zEI5ad+zhkZ4cHHHxer4Vy1onM/BeLD/Z2CvS2sgNUBcFcjZOasjFY5BnhJjpVM2Bmb5KBfHrRXwqfG/LxX0ry6YpEhPWeQgboB6dCC/IH75kIYXgLjnZuiUbsqVQ5q+vZQUJaeM1iJwHYXnuAGOcJXL9/3DcRODVn5iOO4l+VYMnr4cIS+WWCt2+TEY46cVloP0FIQ6tsKTYBAX3+0tD+lsykCxu94EcZ74CsbvBEwC2m8IXhyup0T7wZ/C8gymUNCUmfK0J+VE/HDfHNcPe8HnmwKtQsO19MpthVLR5g8G9poTJld9ekra5MzxG3b56CM/HmityUcOaS3k6r8KMlLtOnTQDExVXD8cFf36rrLrKi6z6lkzxqm8nJiT0KDlAZsiZqdXBcwUDbLcQSQHxil57GqaHHyf01WQIvNgm3HOk+vGSYOFmTHrqRUDPWuFpdMOegZTFpoB2aDQytmhXGVzNaWYKBhsxyxo1oD0LChyz0A7wBhE2/OZ55n4YbJDfmxIw9XVCvcc5cs67F1vma++3oqZvPL04VZSYd+9O07xGBRdQ7GnfGL8YKVRTr3oeyw+15xpTuLZvXz+cI6F2cvj48DF4bz2zRPWhzJ4KFq5b/yDF9ZLr7gof9ZSCi8MC15f6CeULEj5m/hSVK1wEbJ82snl2SE9y7KVE/GPPsWyal343Mpj9/4Fw/F2onCzOOY+p2VFeWnb9QM5oVLfkh1nYIri0jH62Y9m6Vg6zNiD0zZbZzVThmsM8FuMiyskj7Xn+hlmT+NN4gDFZOb78BGOXf+GgAdjijxmaMuvDJ14yjWHJY0Jh/vE1dWKGbbjvXXQt+t6cSAV1yd0Jw12BiuKpVXyLFlW2p8EUnHkpQYdlqyyHzcclN5smottbLJg8JWeBXdJoFWSspiluJzLQTGtoVNNGyhA7rH3DnVNN3gmMTgrtx9EKRrHL2/y8jMnA71ydC6VkLhOyoOHfJ7U5ZP/cscqh1JP5aFvm0gakA22LJ32vrAwKFSTNte2llFfDDcclzirp+fUfRDTo1x7cT/sSJPinlBcJiqt9eQ8q/q3h7rcrcuIl+N+3bH0ELCoW7lO/GNiw9psFeBe/H+fQE42XWNyoI/pU+1EgbVF+VH6Js0JSu4PAlcF0rruiq9/d4mBRYrLwPSWoXOZSUkPzHMPjweD2X3bAGUyJtwpOgV4SICbygzeg5fH8q/Bic96TMyI+dPfHnjNUD73Uj+gcmFJMyv+1ed9+zigk+vAR01ScV2Mhp0O3CPggcW3QYKbZ55MUVxiFK3CMXhRXO5lrwyUJeaj7+hDJAfwn4rf/ezeeRMQ90eeJ0cqO09xZfJUXJ8zHNBnzfbNvrmV9CMDcCupuEyw9GNWCCXCSuKu7OWH4kDO/k/Hb25t4D7T57UhFReFmlbgN43k5VBaK+I9GaOiuAz4Vw+8cCjvEc31fuvP54ZzvWu0LcqEQX1fNKP8WYfnKa5bjlz0wKGcV8bfnEhwDYvraUcrDx3SUi6tyNf9f11g1sSWBS+e6lqWGYsxFZdytfN9gVsEbhAwToDf1wqw4sf660iT6tBBMrBIcZmh6NhT8NIZDaFsTnUwk/PQmvWnMmzT9Ioos6YcKRdxJwNcupCe0JV9Jv43k54V3+qrapaqjSyusRn/Qd6jdctOxWXGjye85ITBIDcvaK/sdRVXrwzkycrLSY//xb78L9bSuoGy7QY5Vp80Y9bMMopL32FFsJpOBjI+M09xvSrSsX4sVmDlsyRZBCyWVlJxGTylZ/lwxVlMQNm1ioub6uLQJq7HMWFVuYZizQHVoO3ZuVoAFzjhhmTZupcmBdqUrvx5iosSdT3rpLe4ZlTpQ4eXVVx7cU0q7tsNGYvhjVmal8Zx90K9KCB9wzhESbPuKbtecd0ojlFKnl8TDM99ugpTcbnm9QEWlzGp5BAzsEhx6WQ6jYewxeOHTqJz6UgeEub6MiJekTPuZa5r0+ZM3ECcfmvnDQR9XGJeGf8lTr4zINjNJXGUpHcVeqj59K8MuH8vCfTuvLb921BcDxvK/v6hoLQsWOVcxr2YFVNcZtz9AgpppyouSuBeAZadeCahELjb5imu1lVoUkWB4U5stFX8zxqOf+FIG8Zchc8e0lN0Y/KZcZDV8LYAlxtJxcXdzmXGdaYupwOXBTL2lK7CeYrrkyI9C4QLjndlTDwP/T3hJnxQk9jkJF2FYxaXpDk5oWBMTnhMerdiZnkyflBs3xfQfylYCo3S6S2uG8exdwRYwntNnVjJeDk1HNPvLwT0AS7iMZFm1qR5xiV1+CAYWKS45tWJe0PHMKNcRcy2NuGaS3eJQYCwmMy8psa37hhpuX3yQW+vOwrWVyqufnEGRU8RuIcs4FkyRXFdjItZECnpKqQQxlwv+oxyM+ZBGZk0GKTvNFKRTxvOua9jrs1UXPMmK/qJ/N8YuHdTRiouQfve+jToq2ef76nhuHPccimpuCiQVkwMMs6TrkLnLx/yUfZYLCktIhO89B6kqzCVCSWiHty1BvoceLM/mxTMEnllvLGPgeY1XPP9ohzP/rKKiyuOe1qf+94AZT3VI6Iu1w1QsCbKGePidUnLqp/Q5PEvaRr/xIGrX42/Y5a9Z59bs2THGVhHcaUrQidcRTaluMxKBYW5EcTeDADicmaki8Rs7XkBD7AObgBgYRJumFmz0EX57tJ5cSztOt9V6lYDb87Nmvm6xKycUhGT7GOGXHgGIoPfWIyLS61368iT6809apUaK1ldxG96ScUkxjQm9xuufdoc4nMGzlvQigGMpfeBQD9Ap+LKRSR5HfeTuoLYb8ozhmN9Pbnh0uI61aTn7kuFNmYZpfJprzFBEFcWlyHiMhSCuvBipKizY1/XHBv7mZYQpdDGlrlBKTOKi1CUOdibBLQTPNYgDj2HJ+eUx7ORvN19Qb360yy/vwy8NZATDLy+dsizVVA8CqmQ9R0KUt2Nd1n+hfjt+c9+y1IU7hA2SLHgg9epnZQtWe1Kvg0G1lFcOWs24KwiFJ4HcBOSg578zgS4csaC/MrSEVlnBjsz2c8aKmBGZxD2YJjFGuDGZmWbqO9+5mEw87BeCHjgKQsKXlzEca7CMeWSdTw5pDMxaB9q5y10kAcXTjvoU4SOueaRXWPvP1zTW1Ysu7cP51giKeIX3LhcQbMGkGzjKyLN2CzeoCvGoq7ubSsUM1ezcxkPyfOsVMdZMgZn3LFO0z33I/E7uWMFKF/6p3T1MIliVTnHVdmKxRt4ouRPNifcI3Gx3qMhr98NiH+lXDHkbSKRcn44Ju42TyjPrLf6ceWZALwr8OaAeBArl3uVMnhCwKIb9yuFUkkO53k6WF1csvLurdsF1fzQvVE/VvOJJrH6OO65vXOAh8EEIvu3tj0sQMETz3UqLxOy1wV+eai/vpnifrPupH3UosrV+f1lgOJ6R2BvhWJ1EJ2QL3oVORcXGRA2IWIg7w+Y8Rmg5D1LzIZ1RjNEgdwUg2IGgCm+7OibqN9B5ME99eiAh89AwcLRvhcHLIJ4ecAD2a/qyroarM4EWCqut0DAKjyWKOXABeUcvp3zO1fsUVxm8AZekwMz928InA8YYKyyGxPuy18IGMh/LmCCwbVnIDWQ9GKgFns1oKoj68VAb5adSo5Frlzn4ZWBjG9RGu05M+67Btx7FgsryTX+sgS1H4/q9pBAuqwujd9PDeAh62GAdF686+nNObEdk6Z2YqUfuifvDbhHoN2s5VZOxT/PD7Cw8H2X4eTN4u/3DL9NLh4bMCCri7+sqnn9mfJWZg7o/noGTOaIuj5rOG+wT3caa4WlSDkmv5TAwwOz3OyUfVpxQ/Zz/+jHJj/qk33tufE7XbSUob6szhQqpUW562MmT5R8Tk6zIGMXrrO9xrHW2pSOYuWalqaffE2pd6XZIgMUl5lgO1ObWpyHkjth3mx9Xl6um7coYGo9Ml26RsZmzn1eBkgPay/qwz3IBXHYxWCjjR5iloJ7xfUBfi8SysmgwJJyPfidis5veeU5sZXMl+JivZocXBLQzwz09wlkDGZW+co9NaR/QPz9lDkVpczM9tUp22iwVbe0vBzHg3r4zd2ZbWBNcC1nG7TXMfffNZmvv9neMUXPapF+b8hLGvm6B6y9tnwKRB16y1AduLvOBmbxhF/5aov6tMoo8+MlwIFy5ekvjqb0adaksm8R6EW+FKTyU5TpfrYcqlPLf5uPMeNi4NYj+c86hEP1d2/yPimvvQ+eW5MH/bGt203jn1l9nYLXVhMxz8iYKMf5Wd6bJZpRSTfJAP88S0W847CLB+YdATOpw24tHfZ7kYrLDHhZl9Bhb3vVfzYDl8WpK0sRVBdZl4H0OZtpHQUxizoKSviw34ubRwNYXBSXWXLJ8WSAJXqDAO8KK5DLlSu2pBhYiwEmtpjDg9bKpS4uBv4+A9ytXLZiXFNcVMXf0WPAfX9ZwKKNNwXEkcS3SoqBjTAg6PpLG8mpMjnuDJhZWw1nwYTFGQL5Fu+INZQcLwYoLgtacgGEBSqbjGkfLzartf+AgZNxxAKNWvJZnWNdBgTf9SfBd3EuQf7bBbiLSo4fAxSVBSdcxyXFwMYZ8I7E6wNPGgaeo/D+0sZJqgyLgWKgGCgGdosBQfQHB64IeE+jloDu1v2p2hQDxUAxUAzMYcBqoLEdCIq0YqAYKAaKgWKgGCgGioFioBgoBoqBYqAYKAaKgWKgGCgGioFioBgoBoqBYqAYKAaKgWKgGCgGioFioBgoBoqBYqAYKAaKgWKgGCgGioFioBgoBoqBYqAYOLoM/D9bDneFFKJ2/wAAAABJRU5ErkJggg==)"
      ],
      "metadata": {
        "id": "GKcFooANi8Uw"
      }
    },
    {
      "cell_type": "code",
      "source": [
        "x=float(input(\"enter x: \"))\n",
        "if x>=0 and x<=3:\n",
        "  x=x**2\n",
        "else:\n",
        "  x=4+x**(1/3)\n",
        "print(x)"
      ],
      "metadata": {
        "id": "zV0cdq7UjURb",
        "outputId": "9a5ce31f-f667-4f9c-a720-6a1e0020cc9c",
        "colab": {
          "base_uri": "https://localhost:8080/"
        }
      },
      "execution_count": 5,
      "outputs": [
        {
          "output_type": "stream",
          "name": "stdout",
          "text": [
            "enter x: 5\n",
            "5.709975946676697\n"
          ]
        }
      ]
    },
    {
      "cell_type": "markdown",
      "source": [
        "2)\tДано трехзначное число N. Проверить, будет ли сумма его цифр четным числом."
      ],
      "metadata": {
        "id": "LMJxN9y8kOVi"
      }
    },
    {
      "cell_type": "code",
      "source": [
        "N=int(input(\"enter N: \"))\n",
        "if ((N//100)+(N%10)+((N//10)%10))%2==0:\n",
        "  print(\"yes\")\n",
        "else:\n",
        "  print(\"no\")"
      ],
      "metadata": {
        "id": "EY9ug5tXlCN3",
        "outputId": "6bd2193f-9156-48f5-a612-f030a95f8f92",
        "colab": {
          "base_uri": "https://localhost:8080/"
        }
      },
      "execution_count": 7,
      "outputs": [
        {
          "output_type": "stream",
          "name": "stdout",
          "text": [
            "enter N: 444\n",
            "yes\n"
          ]
        }
      ]
    },
    {
      "cell_type": "markdown",
      "source": [
        "3)\tДаны три положительных числа a, b, c. Проверить будут ли они сторонами треугольника? Если да, то вычислить площадь этого треугольника."
      ],
      "metadata": {
        "id": "jOS4uSTWljyr"
      }
    },
    {
      "cell_type": "code",
      "source": [
        "import math\n",
        "\n",
        "a = float(input(\"enter a: \"))\n",
        "b = float(input(\"enter b: \"))\n",
        "c = float(input(\"enter c: \"))\n",
        "s = (a + b + c) / 2\n",
        "if a + b > c and a + c > b and b + c > a:\n",
        "    S = math.sqrt(s * (s - a) * (s - b) * (s - c))\n",
        "    print(S)\n",
        "else:\n",
        "    print(\"not exist\")\n"
      ],
      "metadata": {
        "id": "0bIIF7udlpAw",
        "outputId": "19494c3c-40ef-4aa2-e22d-ae4aa8bf5e9c",
        "colab": {
          "base_uri": "https://localhost:8080/"
        }
      },
      "execution_count": 20,
      "outputs": [
        {
          "output_type": "stream",
          "name": "stdout",
          "text": [
            "enter a: 3\n",
            "enter b: 4\n",
            "enter c: 5\n",
            "6.0\n"
          ]
        }
      ]
    },
    {
      "cell_type": "markdown",
      "source": [
        "4)\tИзвестны сопротивления двух несоединенных друг с другом участков электрической цепи и напряжение на каждом из них. По какому участку протекает меньший ток?"
      ],
      "metadata": {
        "id": "SJCwoCZhpAzH"
      }
    },
    {
      "cell_type": "code",
      "source": [
        "u1=int(input(\"enter u1: \"))\n",
        "u2=int(input(\"enter u2: \"))\n",
        "r1=int(input(\"enter i1: \"))\n",
        "r2=int(input(\"enter i2: \"))\n",
        "if u1/r1 < u2/r2:\n",
        " print(\"first\")\n",
        "else:\n",
        "  print(\"second\")\n",
        "\n"
      ],
      "metadata": {
        "id": "dnnFUXASpeUl",
        "outputId": "409920a8-418b-4da6-99aa-6091d7b33bea",
        "colab": {
          "base_uri": "https://localhost:8080/"
        }
      },
      "execution_count": 18,
      "outputs": [
        {
          "output_type": "stream",
          "name": "stdout",
          "text": [
            "enter u1: 2\n",
            "enter u2: 3\n",
            "enter i1: 1\n",
            "enter i2: 5\n",
            "second\n"
          ]
        }
      ]
    },
    {
      "cell_type": "markdown",
      "source": [
        "5)\tДата некоторого дня характеризуется двумя натуральными числами: m (порядковый номер месяца) и n (число). По заданным n и m определить:\n",
        "а) дату предыдущего дня (принять, что n и m не характеризуют 1 января);\n",
        "б) дату следующего дня (принять, что n и m не характеризуют 31 декабря)\n"
      ],
      "metadata": {
        "id": "ELS34eELrqUJ"
      }
    },
    {
      "cell_type": "code",
      "source": [
        "#a)\n",
        "\n",
        "m=int(input(\"введите месяц: \"))\n",
        "n=int(input(\"введите день: \"))\n",
        "if (n>=1 and n<=31) and (m>=1 and m<=12):\n",
        "  if n==1 and m!=1 and (m==2 or m==4 or m==6 or m==8 or m==9 or m==11):\n",
        "    n=31\n",
        "    m=m-1\n",
        "  elif n==1 and m!=1 and m==3:\n",
        "    n=28\n",
        "    m=m-1\n",
        "  elif n==1 and m!=1 and (m==5 or m==7 or m==9 or m==10 or m==12):\n",
        "    n=30\n",
        "    m=m-1\n",
        "  else:\n",
        "    n=n-1\n",
        "  print (\"месяц =\",m)\n",
        "  print(\"день = \",n)"
      ],
      "metadata": {
        "id": "5uwd3dYxsKma",
        "outputId": "12278463-3048-4d7b-e864-5d85f92a4545",
        "colab": {
          "base_uri": "https://localhost:8080/"
        }
      },
      "execution_count": 48,
      "outputs": [
        {
          "output_type": "stream",
          "name": "stdout",
          "text": [
            "введите месяц: 5\n",
            "введите день: 1\n",
            "месяц = 4\n",
            "день =  30\n"
          ]
        }
      ]
    },
    {
      "cell_type": "code",
      "source": [
        "#b)\n",
        "\n",
        "m=int(input(\"введите месяц: \"))\n",
        "n=int(input(\"введите день: \"))\n",
        "if (n>=1 and n<=31) and (m>=1 and m<=12):\n",
        "  if n==31 and m!=12 and (m==1 or m==3 or m==5 or m==7 or m==8 or m==10):\n",
        "    n=1\n",
        "    m=m+1\n",
        "  elif n==28 and m!=12 and m==2:\n",
        "    n=1\n",
        "    m=m+1\n",
        "  elif n==30 and m!=12 and (m==4 or m==6 or m==9 or m==11):\n",
        "    n=1\n",
        "    m=m+1\n",
        "  else:\n",
        "    n=n-1\n",
        "  print (\"месяц =\",m)\n",
        "  print(\"день = \",n)"
      ],
      "metadata": {
        "id": "tRywzZtUviZn",
        "outputId": "2e58bd0f-a65d-42e3-c559-470e5379f4ba",
        "colab": {
          "base_uri": "https://localhost:8080/"
        }
      },
      "execution_count": 46,
      "outputs": [
        {
          "output_type": "stream",
          "name": "stdout",
          "text": [
            "введите месяц: 2\n",
            "введите день: 28\n",
            "месяц = 3\n",
            "день =  1\n"
          ]
        }
      ]
    },
    {
      "cell_type": "markdown",
      "source": [],
      "metadata": {
        "id": "Qa6baTuDzgwN"
      }
    }
  ]
}